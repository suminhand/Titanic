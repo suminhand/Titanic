{
 "cells": [
  {
   "cell_type": "markdown",
   "id": "8930579f",
   "metadata": {},
   "source": [
    "# 타이타닉 데이터셋 분석하고 생존/사망 예측하기\n",
    "\n",
    "---\n",
    "\n",
    "#### 2022100870 손수민\n"
   ]
  },
  {
   "cell_type": "markdown",
   "id": "f920a394",
   "metadata": {},
   "source": [
    "## 0. Titanic 데이터셋 살펴보기\n",
    "\n",
    "#### 데이터 다운로드\n",
    "  https://www.kaggle.com/c/titanic (Titanic: Machine Learning from Disaster)\n",
    "\n",
    "데이터 분석을 하기 위해 필요한 모듈들을 가져오고 미리 다운받아 둔 titanic 데이터셋을 불러온다.  \n",
    "데이터셋을 불러올 때 이미 'PassengerId'라는 고유의 번호를 가지고 있으므로 index로 사용한다.  \n",
    "데이터셋의 개요를 살펴본다."
   ]
  },
  {
   "cell_type": "code",
   "execution_count": 44,
   "id": "63473635",
   "metadata": {},
   "outputs": [],
   "source": [
    "import pandas as pd\n",
    "import matplotlib.pyplot as plt\n",
    "import seaborn as sns"
   ]
  },
  {
   "cell_type": "code",
   "execution_count": 45,
   "id": "147ec99e",
   "metadata": {},
   "outputs": [
    {
     "data": {
      "text/html": [
       "<div>\n",
       "<style scoped>\n",
       "    .dataframe tbody tr th:only-of-type {\n",
       "        vertical-align: middle;\n",
       "    }\n",
       "\n",
       "    .dataframe tbody tr th {\n",
       "        vertical-align: top;\n",
       "    }\n",
       "\n",
       "    .dataframe thead th {\n",
       "        text-align: right;\n",
       "    }\n",
       "</style>\n",
       "<table border=\"1\" class=\"dataframe\">\n",
       "  <thead>\n",
       "    <tr style=\"text-align: right;\">\n",
       "      <th></th>\n",
       "      <th>Survived</th>\n",
       "      <th>Pclass</th>\n",
       "      <th>Name</th>\n",
       "      <th>Sex</th>\n",
       "      <th>Age</th>\n",
       "      <th>SibSp</th>\n",
       "      <th>Parch</th>\n",
       "      <th>Ticket</th>\n",
       "      <th>Fare</th>\n",
       "      <th>Cabin</th>\n",
       "      <th>Embarked</th>\n",
       "    </tr>\n",
       "    <tr>\n",
       "      <th>PassengerId</th>\n",
       "      <th></th>\n",
       "      <th></th>\n",
       "      <th></th>\n",
       "      <th></th>\n",
       "      <th></th>\n",
       "      <th></th>\n",
       "      <th></th>\n",
       "      <th></th>\n",
       "      <th></th>\n",
       "      <th></th>\n",
       "      <th></th>\n",
       "    </tr>\n",
       "  </thead>\n",
       "  <tbody>\n",
       "    <tr>\n",
       "      <th>1</th>\n",
       "      <td>0</td>\n",
       "      <td>3</td>\n",
       "      <td>Braund, Mr. Owen Harris</td>\n",
       "      <td>male</td>\n",
       "      <td>22.0</td>\n",
       "      <td>1</td>\n",
       "      <td>0</td>\n",
       "      <td>A/5 21171</td>\n",
       "      <td>7.2500</td>\n",
       "      <td>NaN</td>\n",
       "      <td>S</td>\n",
       "    </tr>\n",
       "    <tr>\n",
       "      <th>2</th>\n",
       "      <td>1</td>\n",
       "      <td>1</td>\n",
       "      <td>Cumings, Mrs. John Bradley (Florence Briggs Th...</td>\n",
       "      <td>female</td>\n",
       "      <td>38.0</td>\n",
       "      <td>1</td>\n",
       "      <td>0</td>\n",
       "      <td>PC 17599</td>\n",
       "      <td>71.2833</td>\n",
       "      <td>C85</td>\n",
       "      <td>C</td>\n",
       "    </tr>\n",
       "    <tr>\n",
       "      <th>3</th>\n",
       "      <td>1</td>\n",
       "      <td>3</td>\n",
       "      <td>Heikkinen, Miss. Laina</td>\n",
       "      <td>female</td>\n",
       "      <td>26.0</td>\n",
       "      <td>0</td>\n",
       "      <td>0</td>\n",
       "      <td>STON/O2. 3101282</td>\n",
       "      <td>7.9250</td>\n",
       "      <td>NaN</td>\n",
       "      <td>S</td>\n",
       "    </tr>\n",
       "    <tr>\n",
       "      <th>4</th>\n",
       "      <td>1</td>\n",
       "      <td>1</td>\n",
       "      <td>Futrelle, Mrs. Jacques Heath (Lily May Peel)</td>\n",
       "      <td>female</td>\n",
       "      <td>35.0</td>\n",
       "      <td>1</td>\n",
       "      <td>0</td>\n",
       "      <td>113803</td>\n",
       "      <td>53.1000</td>\n",
       "      <td>C123</td>\n",
       "      <td>S</td>\n",
       "    </tr>\n",
       "    <tr>\n",
       "      <th>5</th>\n",
       "      <td>0</td>\n",
       "      <td>3</td>\n",
       "      <td>Allen, Mr. William Henry</td>\n",
       "      <td>male</td>\n",
       "      <td>35.0</td>\n",
       "      <td>0</td>\n",
       "      <td>0</td>\n",
       "      <td>373450</td>\n",
       "      <td>8.0500</td>\n",
       "      <td>NaN</td>\n",
       "      <td>S</td>\n",
       "    </tr>\n",
       "  </tbody>\n",
       "</table>\n",
       "</div>"
      ],
      "text/plain": [
       "             Survived  Pclass  \\\n",
       "PassengerId                     \n",
       "1                   0       3   \n",
       "2                   1       1   \n",
       "3                   1       3   \n",
       "4                   1       1   \n",
       "5                   0       3   \n",
       "\n",
       "                                                          Name     Sex   Age  \\\n",
       "PassengerId                                                                    \n",
       "1                                      Braund, Mr. Owen Harris    male  22.0   \n",
       "2            Cumings, Mrs. John Bradley (Florence Briggs Th...  female  38.0   \n",
       "3                                       Heikkinen, Miss. Laina  female  26.0   \n",
       "4                 Futrelle, Mrs. Jacques Heath (Lily May Peel)  female  35.0   \n",
       "5                                     Allen, Mr. William Henry    male  35.0   \n",
       "\n",
       "             SibSp  Parch            Ticket     Fare Cabin Embarked  \n",
       "PassengerId                                                          \n",
       "1                1      0         A/5 21171   7.2500   NaN        S  \n",
       "2                1      0          PC 17599  71.2833   C85        C  \n",
       "3                0      0  STON/O2. 3101282   7.9250   NaN        S  \n",
       "4                1      0            113803  53.1000  C123        S  \n",
       "5                0      0            373450   8.0500   NaN        S  "
      ]
     },
     "execution_count": 45,
     "metadata": {},
     "output_type": "execute_result"
    }
   ],
   "source": [
    "titanic = pd.read_csv(\"./titanic/train.csv\")\n",
    "titanic.set_index('PassengerId', inplace=True)\n",
    "titanic.head()"
   ]
  },
  {
   "cell_type": "code",
   "execution_count": 46,
   "id": "50b963e4",
   "metadata": {},
   "outputs": [
    {
     "name": "stdout",
     "output_type": "stream",
     "text": [
      "<class 'pandas.core.frame.DataFrame'>\n",
      "Int64Index: 891 entries, 1 to 891\n",
      "Data columns (total 11 columns):\n",
      " #   Column    Non-Null Count  Dtype  \n",
      "---  ------    --------------  -----  \n",
      " 0   Survived  891 non-null    int64  \n",
      " 1   Pclass    891 non-null    int64  \n",
      " 2   Name      891 non-null    object \n",
      " 3   Sex       891 non-null    object \n",
      " 4   Age       714 non-null    float64\n",
      " 5   SibSp     891 non-null    int64  \n",
      " 6   Parch     891 non-null    int64  \n",
      " 7   Ticket    891 non-null    object \n",
      " 8   Fare      891 non-null    float64\n",
      " 9   Cabin     204 non-null    object \n",
      " 10  Embarked  889 non-null    object \n",
      "dtypes: float64(2), int64(4), object(5)\n",
      "memory usage: 83.5+ KB\n"
     ]
    }
   ],
   "source": [
    "titanic.info()"
   ]
  },
  {
   "cell_type": "code",
   "execution_count": 47,
   "id": "9c8cfacc",
   "metadata": {},
   "outputs": [
    {
     "data": {
      "text/html": [
       "<div>\n",
       "<style scoped>\n",
       "    .dataframe tbody tr th:only-of-type {\n",
       "        vertical-align: middle;\n",
       "    }\n",
       "\n",
       "    .dataframe tbody tr th {\n",
       "        vertical-align: top;\n",
       "    }\n",
       "\n",
       "    .dataframe thead th {\n",
       "        text-align: right;\n",
       "    }\n",
       "</style>\n",
       "<table border=\"1\" class=\"dataframe\">\n",
       "  <thead>\n",
       "    <tr style=\"text-align: right;\">\n",
       "      <th></th>\n",
       "      <th>Survived</th>\n",
       "      <th>Pclass</th>\n",
       "      <th>Age</th>\n",
       "      <th>SibSp</th>\n",
       "      <th>Parch</th>\n",
       "      <th>Fare</th>\n",
       "    </tr>\n",
       "  </thead>\n",
       "  <tbody>\n",
       "    <tr>\n",
       "      <th>count</th>\n",
       "      <td>891.000000</td>\n",
       "      <td>891.000000</td>\n",
       "      <td>714.000000</td>\n",
       "      <td>891.000000</td>\n",
       "      <td>891.000000</td>\n",
       "      <td>891.000000</td>\n",
       "    </tr>\n",
       "    <tr>\n",
       "      <th>mean</th>\n",
       "      <td>0.383838</td>\n",
       "      <td>2.308642</td>\n",
       "      <td>29.699118</td>\n",
       "      <td>0.523008</td>\n",
       "      <td>0.381594</td>\n",
       "      <td>32.204208</td>\n",
       "    </tr>\n",
       "    <tr>\n",
       "      <th>std</th>\n",
       "      <td>0.486592</td>\n",
       "      <td>0.836071</td>\n",
       "      <td>14.526497</td>\n",
       "      <td>1.102743</td>\n",
       "      <td>0.806057</td>\n",
       "      <td>49.693429</td>\n",
       "    </tr>\n",
       "    <tr>\n",
       "      <th>min</th>\n",
       "      <td>0.000000</td>\n",
       "      <td>1.000000</td>\n",
       "      <td>0.420000</td>\n",
       "      <td>0.000000</td>\n",
       "      <td>0.000000</td>\n",
       "      <td>0.000000</td>\n",
       "    </tr>\n",
       "    <tr>\n",
       "      <th>25%</th>\n",
       "      <td>0.000000</td>\n",
       "      <td>2.000000</td>\n",
       "      <td>20.125000</td>\n",
       "      <td>0.000000</td>\n",
       "      <td>0.000000</td>\n",
       "      <td>7.910400</td>\n",
       "    </tr>\n",
       "    <tr>\n",
       "      <th>50%</th>\n",
       "      <td>0.000000</td>\n",
       "      <td>3.000000</td>\n",
       "      <td>28.000000</td>\n",
       "      <td>0.000000</td>\n",
       "      <td>0.000000</td>\n",
       "      <td>14.454200</td>\n",
       "    </tr>\n",
       "    <tr>\n",
       "      <th>75%</th>\n",
       "      <td>1.000000</td>\n",
       "      <td>3.000000</td>\n",
       "      <td>38.000000</td>\n",
       "      <td>1.000000</td>\n",
       "      <td>0.000000</td>\n",
       "      <td>31.000000</td>\n",
       "    </tr>\n",
       "    <tr>\n",
       "      <th>max</th>\n",
       "      <td>1.000000</td>\n",
       "      <td>3.000000</td>\n",
       "      <td>80.000000</td>\n",
       "      <td>8.000000</td>\n",
       "      <td>6.000000</td>\n",
       "      <td>512.329200</td>\n",
       "    </tr>\n",
       "  </tbody>\n",
       "</table>\n",
       "</div>"
      ],
      "text/plain": [
       "         Survived      Pclass         Age       SibSp       Parch        Fare\n",
       "count  891.000000  891.000000  714.000000  891.000000  891.000000  891.000000\n",
       "mean     0.383838    2.308642   29.699118    0.523008    0.381594   32.204208\n",
       "std      0.486592    0.836071   14.526497    1.102743    0.806057   49.693429\n",
       "min      0.000000    1.000000    0.420000    0.000000    0.000000    0.000000\n",
       "25%      0.000000    2.000000   20.125000    0.000000    0.000000    7.910400\n",
       "50%      0.000000    3.000000   28.000000    0.000000    0.000000   14.454200\n",
       "75%      1.000000    3.000000   38.000000    1.000000    0.000000   31.000000\n",
       "max      1.000000    3.000000   80.000000    8.000000    6.000000  512.329200"
      ]
     },
     "execution_count": 47,
     "metadata": {},
     "output_type": "execute_result"
    }
   ],
   "source": [
    "titanic.describe()"
   ]
  },
  {
   "cell_type": "code",
   "execution_count": 48,
   "id": "b030490b",
   "metadata": {},
   "outputs": [
    {
     "data": {
      "image/png": "[encoded data removed]",
      "text/plain": [
       "<Figure size 2000x1500 with 6 Axes>"
      ]
     },
     "metadata": {},
     "output_type": "display_data"
    }
   ],
   "source": [
    "# 그래프를 통해 전체적인 분포 살피기\n",
    "\n",
    "titanic.hist(bins=50, figsize=(20, 15))\n",
    "plt.show()"
   ]
  },
  {
   "cell_type": "code",
   "execution_count": 49,
   "id": "7ef9dafb",
   "metadata": {},
   "outputs": [
    {
     "data": {
      "text/plain": [
       "Survived      0\n",
       "Pclass        0\n",
       "Name          0\n",
       "Sex           0\n",
       "Age         177\n",
       "SibSp         0\n",
       "Parch         0\n",
       "Ticket        0\n",
       "Fare          0\n",
       "Cabin       687\n",
       "Embarked      2\n",
       "dtype: int64"
      ]
     },
     "execution_count": 49,
     "metadata": {},
     "output_type": "execute_result"
    }
   ],
   "source": [
    "titanic.isnull().sum()"
   ]
  },
  {
   "cell_type": "markdown",
   "id": "e99e99c3",
   "metadata": {},
   "source": [
    "#### 데이터 column\n",
    "- survival: 생존여부( 생존:1, 생존x: 0)\n",
    "- pclass: 티켓 등급(1등급:1. 2등급: 2, 3등급: 3)\n",
    "- sex: 성별(male,female)\n",
    "- age: 나이(float)\n",
    "- sibsp: 타이타닉에 승선한 형제자매 또는 배우자의 수\n",
    "- parch: 타이타닉에 승선한 부모-자식의 수\n",
    "- ticket: 티켓 번호\n",
    "- fare: 승선 요금\n",
    "- cabin: 선실 번호\n",
    "- emvarked: 승선 항구 이름( C: Cherbourg, Q: Queenstown, S: Southampton)"
   ]
  },
  {
   "cell_type": "markdown",
   "id": "9c3d60fe",
   "metadata": {},
   "source": [
    "## 1. 데이터 분석\n",
    "\n",
    ">  가설 \n",
    "> 1. 성별이 생존율에 영향을 줄 것이다.\n",
    "> 2. 티켓 등급이 생존율에 영향을 줄 것이다.\n",
    "> 3. 나이가 생존율에 영향을 줄 것이다.\n",
    "4. 부모-자식 관계 혹은 부모나 자식과 오지 않은 경우에 따라 생존율이 변화할 것이다.\n",
    "5. 함께 온 가족 수가 생존율에 영향을 줄 것이다.\n",
    "6. 선실 번호가 생존율에 영향을 줄 것이다."
   ]
  },
  {
   "cell_type": "markdown",
   "id": "67b2c9a1",
   "metadata": {},
   "source": [
    "### 1) 성별이 생존율에  영향을 줄 것이다.\n",
    "\n",
    "예측: 그렇다."
   ]
  },
  {
   "cell_type": "code",
   "execution_count": 94,
   "id": "6e6f05ef",
   "metadata": {},
   "outputs": [
    {
     "data": {
      "image/png": "[encoded data removed]",
      "text/plain": [
       "<Figure size 1500x1500 with 4 Axes>"
      ]
     },
     "metadata": {},
     "output_type": "display_data"
    },
    {
     "data": {
      "image/png": "[encoded data removed]",
      "text/plain": [
       "<Figure size 640x480 with 1 Axes>"
      ]
     },
     "metadata": {},
     "output_type": "display_data"
    },
    {
     "data": {
      "image/png": "[encoded data removed]",
      "text/plain": [
       "<Figure size 640x480 with 1 Axes>"
      ]
     },
     "metadata": {},
     "output_type": "display_data"
    }
   ],
   "source": [
    "fig, ax = plt.subplots(2, 2, figsize=(15, 15))\n",
    "\n",
    "sns.countplot(x=titanic[\"Sex\"], hue=titanic[\"Survived\"], ax=ax[0, 0])\n",
    "plt.show()\n",
    "\n",
    "titanic[titanic[\"Sex\"]==\"male\"]['Survived'].value_counts().plot.pie(autopct = '%.2f%%', colors = ['lightblue', 'tomato'])\n",
    "plt.show()\n",
    "\n",
    "titanic[titanic[\"Sex\"]==\"female\"]['Survived'].value_counts().plot.pie(autopct = '%.2f%%', colors = ['lightblue', 'tomato'])\n",
    "plt.show()"
   ]
  },
  {
   "cell_type": "markdown",
   "id": "c3681986",
   "metadata": {},
   "source": [
    "### 2) 티켓 등급이 생존율에 영향을 줄 것이다."
   ]
  },
  {
   "cell_type": "code",
   "execution_count": 51,
   "id": "c0cea08c",
   "metadata": {},
   "outputs": [
    {
     "data": {
      "image/png": "[encoded data removed]",
      "text/plain": [
       "<Figure size 640x480 with 1 Axes>"
      ]
     },
     "metadata": {},
     "output_type": "display_data"
    }
   ],
   "source": [
    "sns.countplot(x=titanic[\"Pclass\"], hue=titanic[\"Survived\"])\n",
    "plt.show()"
   ]
  },
  {
   "cell_type": "markdown",
   "id": "7543dc10",
   "metadata": {},
   "source": [
    "### 3) 나이가 생존율에 영향을 줄 것이다."
   ]
  },
  {
   "cell_type": "code",
   "execution_count": 52,
   "id": "559f379a",
   "metadata": {},
   "outputs": [
    {
     "data": {
      "text/plain": [
       "177"
      ]
     },
     "execution_count": 52,
     "metadata": {},
     "output_type": "execute_result"
    }
   ],
   "source": [
    "titanic.Age.isnull().sum()"
   ]
  },
  {
   "cell_type": "code",
   "execution_count": 53,
   "id": "abdda558",
   "metadata": {},
   "outputs": [],
   "source": [
    "bins = range(0, 91, 10)\n",
    "bins_label = [i for i in bins]\n",
    "titanic[\"age_group\"] = pd.cut(titanic[\"Age\"], bins, right=False, labels=bins_label[:-1])"
   ]
  },
  {
   "cell_type": "code",
   "execution_count": 54,
   "id": "fb4208c3",
   "metadata": {},
   "outputs": [
    {
     "data": {
      "text/plain": [
       "array(['Mr', 'Mrs', 'Miss', 'Master', 'Don', 'Rev', 'Dr', 'Mme', 'Ms',\n",
       "       'Major', 'Lady', 'Sir', 'Mlle', 'Col', 'Capt', 'Countess',\n",
       "       'Jonkheer'], dtype=object)"
      ]
     },
     "execution_count": 54,
     "metadata": {},
     "output_type": "execute_result"
    }
   ],
   "source": [
    "titanic['Initial']=0\n",
    "for i in titanic:\n",
    "    titanic['Initial']=titanic.Name.str.extract('([A-Za-z]+)\\.')\n",
    "\n",
    "titanic['Initial'].unique()"
   ]
  },
  {
   "cell_type": "code",
   "execution_count": 55,
   "id": "b37cfc5a",
   "metadata": {},
   "outputs": [
    {
     "data": {
      "image/png": "[encoded data removed]",
      "text/plain": [
       "<Figure size 640x480 with 1 Axes>"
      ]
     },
     "metadata": {},
     "output_type": "display_data"
    }
   ],
   "source": [
    "sns.countplot(x=titanic['Initial'])\n",
    "plt.show()"
   ]
  },
  {
   "cell_type": "code",
   "execution_count": 56,
   "id": "06b3db2e",
   "metadata": {},
   "outputs": [
    {
     "data": {
      "text/html": [
       "<style type=\"text/css\">\n",
       "#T_00797_row0_col0, #T_00797_row0_col1, #T_00797_row0_col2, #T_00797_row0_col3, #T_00797_row0_col4, #T_00797_row0_col5, #T_00797_row0_col6, #T_00797_row0_col7, #T_00797_row0_col8, #T_00797_row0_col11, #T_00797_row0_col12, #T_00797_row0_col13, #T_00797_row0_col14, #T_00797_row0_col15, #T_00797_row0_col16, #T_00797_row0_col17, #T_00797_row1_col0, #T_00797_row1_col1, #T_00797_row1_col2, #T_00797_row1_col3, #T_00797_row1_col4, #T_00797_row1_col5, #T_00797_row1_col6, #T_00797_row1_col7, #T_00797_row1_col8, #T_00797_row1_col11, #T_00797_row1_col12, #T_00797_row1_col15, #T_00797_row1_col16, #T_00797_row1_col17, #T_00797_row2_col0, #T_00797_row2_col1, #T_00797_row2_col2, #T_00797_row2_col3, #T_00797_row2_col4, #T_00797_row2_col6, #T_00797_row2_col7, #T_00797_row2_col8, #T_00797_row2_col9, #T_00797_row2_col17, #T_00797_row3_col0, #T_00797_row3_col1, #T_00797_row3_col3, #T_00797_row3_col4, #T_00797_row3_col7, #T_00797_row3_col8, #T_00797_row3_col9, #T_00797_row3_col11, #T_00797_row3_col12, #T_00797_row3_col15, #T_00797_row3_col16, #T_00797_row3_col17, #T_00797_row4_col0, #T_00797_row4_col1, #T_00797_row4_col2, #T_00797_row4_col6, #T_00797_row4_col9, #T_00797_row4_col11, #T_00797_row4_col12, #T_00797_row4_col15, #T_00797_row5_col0, #T_00797_row5_col2, #T_00797_row5_col3, #T_00797_row5_col4, #T_00797_row5_col6, #T_00797_row5_col7, #T_00797_row5_col9, #T_00797_row5_col11, #T_00797_row5_col12, #T_00797_row5_col15, #T_00797_row5_col17, #T_00797_row6_col0, #T_00797_row6_col2, #T_00797_row6_col3, #T_00797_row6_col4, #T_00797_row6_col5, #T_00797_row6_col6, #T_00797_row6_col7, #T_00797_row6_col8, #T_00797_row6_col9, #T_00797_row6_col11, #T_00797_row6_col12, #T_00797_row6_col15, #T_00797_row6_col16, #T_00797_row6_col17, #T_00797_row7_col1, #T_00797_row7_col2, #T_00797_row7_col3, #T_00797_row7_col4, #T_00797_row7_col5, #T_00797_row7_col6, #T_00797_row7_col7, #T_00797_row7_col8, #T_00797_row7_col9, #T_00797_row7_col10, #T_00797_row7_col11, #T_00797_row7_col12, #T_00797_row7_col14, #T_00797_row7_col15, #T_00797_row7_col16, #T_00797_row7_col17, #T_00797_row8_col0, #T_00797_row8_col1, #T_00797_row8_col2, #T_00797_row8_col3, #T_00797_row8_col4, #T_00797_row8_col5, #T_00797_row8_col6, #T_00797_row8_col7, #T_00797_row8_col8, #T_00797_row8_col9, #T_00797_row8_col10, #T_00797_row8_col11, #T_00797_row8_col12, #T_00797_row8_col14, #T_00797_row8_col15, #T_00797_row8_col16, #T_00797_row8_col17 {\n",
       "  background-color: #ffff66;\n",
       "  color: #000000;\n",
       "}\n",
       "#T_00797_row0_col9, #T_00797_row2_col10, #T_00797_row2_col11, #T_00797_row2_col12, #T_00797_row2_col13, #T_00797_row2_col15, #T_00797_row3_col2, #T_00797_row3_col6, #T_00797_row3_col14, #T_00797_row4_col3, #T_00797_row4_col4, #T_00797_row4_col7, #T_00797_row4_col8, #T_00797_row4_col17, #T_00797_row5_col1, #T_00797_row5_col5, #T_00797_row5_col8, #T_00797_row5_col16, #T_00797_row6_col1, #T_00797_row7_col0 {\n",
       "  background-color: #008066;\n",
       "  color: #f1f1f1;\n",
       "}\n",
       "#T_00797_row0_col10 {\n",
       "  background-color: #3f9f66;\n",
       "  color: #f1f1f1;\n",
       "}\n",
       "#T_00797_row1_col9, #T_00797_row4_col10 {\n",
       "  background-color: #dfef66;\n",
       "  color: #000000;\n",
       "}\n",
       "#T_00797_row1_col10 {\n",
       "  background-color: #198c66;\n",
       "  color: #f1f1f1;\n",
       "}\n",
       "#T_00797_row1_col13 {\n",
       "  background-color: #a2d066;\n",
       "  color: #000000;\n",
       "}\n",
       "#T_00797_row1_col14 {\n",
       "  background-color: #b5da66;\n",
       "  color: #000000;\n",
       "}\n",
       "#T_00797_row2_col5, #T_00797_row3_col5, #T_00797_row4_col5 {\n",
       "  background-color: #7fbf66;\n",
       "  color: #000000;\n",
       "}\n",
       "#T_00797_row2_col14 {\n",
       "  background-color: #188c66;\n",
       "  color: #f1f1f1;\n",
       "}\n",
       "#T_00797_row2_col16 {\n",
       "  background-color: #55aa66;\n",
       "  color: #f1f1f1;\n",
       "}\n",
       "#T_00797_row3_col10 {\n",
       "  background-color: #4ca666;\n",
       "  color: #f1f1f1;\n",
       "}\n",
       "#T_00797_row3_col13 {\n",
       "  background-color: #46a266;\n",
       "  color: #f1f1f1;\n",
       "}\n",
       "#T_00797_row4_col13 {\n",
       "  background-color: #a4d266;\n",
       "  color: #000000;\n",
       "}\n",
       "#T_00797_row4_col14 {\n",
       "  background-color: #319866;\n",
       "  color: #f1f1f1;\n",
       "}\n",
       "#T_00797_row4_col16 {\n",
       "  background-color: #aad466;\n",
       "  color: #000000;\n",
       "}\n",
       "#T_00797_row5_col10 {\n",
       "  background-color: #d9ec66;\n",
       "  color: #000000;\n",
       "}\n",
       "#T_00797_row5_col13 {\n",
       "  background-color: #d7eb66;\n",
       "  color: #000000;\n",
       "}\n",
       "#T_00797_row5_col14 {\n",
       "  background-color: #9cce66;\n",
       "  color: #000000;\n",
       "}\n",
       "#T_00797_row6_col10 {\n",
       "  background-color: #f9fc66;\n",
       "  color: #000000;\n",
       "}\n",
       "#T_00797_row6_col13, #T_00797_row6_col14 {\n",
       "  background-color: #e7f366;\n",
       "  color: #000000;\n",
       "}\n",
       "#T_00797_row7_col13 {\n",
       "  background-color: #f7fb66;\n",
       "  color: #000000;\n",
       "}\n",
       "#T_00797_row8_col13 {\n",
       "  background-color: #fefe66;\n",
       "  color: #000000;\n",
       "}\n",
       "</style>\n",
       "<table id=\"T_00797\">\n",
       "  <thead>\n",
       "    <tr>\n",
       "      <th class=\"index_name level0\" >Initial</th>\n",
       "      <th id=\"T_00797_level0_col0\" class=\"col_heading level0 col0\" >Capt</th>\n",
       "      <th id=\"T_00797_level0_col1\" class=\"col_heading level0 col1\" >Col</th>\n",
       "      <th id=\"T_00797_level0_col2\" class=\"col_heading level0 col2\" >Countess</th>\n",
       "      <th id=\"T_00797_level0_col3\" class=\"col_heading level0 col3\" >Don</th>\n",
       "      <th id=\"T_00797_level0_col4\" class=\"col_heading level0 col4\" colspan=\"2\">Dr</th>\n",
       "      <th id=\"T_00797_level0_col6\" class=\"col_heading level0 col6\" >Jonkheer</th>\n",
       "      <th id=\"T_00797_level0_col7\" class=\"col_heading level0 col7\" >Lady</th>\n",
       "      <th id=\"T_00797_level0_col8\" class=\"col_heading level0 col8\" >Major</th>\n",
       "      <th id=\"T_00797_level0_col9\" class=\"col_heading level0 col9\" >Master</th>\n",
       "      <th id=\"T_00797_level0_col10\" class=\"col_heading level0 col10\" >Miss</th>\n",
       "      <th id=\"T_00797_level0_col11\" class=\"col_heading level0 col11\" >Mlle</th>\n",
       "      <th id=\"T_00797_level0_col12\" class=\"col_heading level0 col12\" >Mme</th>\n",
       "      <th id=\"T_00797_level0_col13\" class=\"col_heading level0 col13\" >Mr</th>\n",
       "      <th id=\"T_00797_level0_col14\" class=\"col_heading level0 col14\" >Mrs</th>\n",
       "      <th id=\"T_00797_level0_col15\" class=\"col_heading level0 col15\" >Ms</th>\n",
       "      <th id=\"T_00797_level0_col16\" class=\"col_heading level0 col16\" >Rev</th>\n",
       "      <th id=\"T_00797_level0_col17\" class=\"col_heading level0 col17\" >Sir</th>\n",
       "    </tr>\n",
       "    <tr>\n",
       "      <th class=\"index_name level1\" >Sex</th>\n",
       "      <th id=\"T_00797_level1_col0\" class=\"col_heading level1 col0\" >male</th>\n",
       "      <th id=\"T_00797_level1_col1\" class=\"col_heading level1 col1\" >male</th>\n",
       "      <th id=\"T_00797_level1_col2\" class=\"col_heading level1 col2\" >female</th>\n",
       "      <th id=\"T_00797_level1_col3\" class=\"col_heading level1 col3\" >male</th>\n",
       "      <th id=\"T_00797_level1_col4\" class=\"col_heading level1 col4\" >female</th>\n",
       "      <th id=\"T_00797_level1_col5\" class=\"col_heading level1 col5\" >male</th>\n",
       "      <th id=\"T_00797_level1_col6\" class=\"col_heading level1 col6\" >male</th>\n",
       "      <th id=\"T_00797_level1_col7\" class=\"col_heading level1 col7\" >female</th>\n",
       "      <th id=\"T_00797_level1_col8\" class=\"col_heading level1 col8\" >male</th>\n",
       "      <th id=\"T_00797_level1_col9\" class=\"col_heading level1 col9\" >male</th>\n",
       "      <th id=\"T_00797_level1_col10\" class=\"col_heading level1 col10\" >female</th>\n",
       "      <th id=\"T_00797_level1_col11\" class=\"col_heading level1 col11\" >female</th>\n",
       "      <th id=\"T_00797_level1_col12\" class=\"col_heading level1 col12\" >female</th>\n",
       "      <th id=\"T_00797_level1_col13\" class=\"col_heading level1 col13\" >male</th>\n",
       "      <th id=\"T_00797_level1_col14\" class=\"col_heading level1 col14\" >female</th>\n",
       "      <th id=\"T_00797_level1_col15\" class=\"col_heading level1 col15\" >female</th>\n",
       "      <th id=\"T_00797_level1_col16\" class=\"col_heading level1 col16\" >male</th>\n",
       "      <th id=\"T_00797_level1_col17\" class=\"col_heading level1 col17\" >male</th>\n",
       "    </tr>\n",
       "    <tr>\n",
       "      <th class=\"index_name level0\" >age_group</th>\n",
       "      <th class=\"blank col0\" >&nbsp;</th>\n",
       "      <th class=\"blank col1\" >&nbsp;</th>\n",
       "      <th class=\"blank col2\" >&nbsp;</th>\n",
       "      <th class=\"blank col3\" >&nbsp;</th>\n",
       "      <th class=\"blank col4\" >&nbsp;</th>\n",
       "      <th class=\"blank col5\" >&nbsp;</th>\n",
       "      <th class=\"blank col6\" >&nbsp;</th>\n",
       "      <th class=\"blank col7\" >&nbsp;</th>\n",
       "      <th class=\"blank col8\" >&nbsp;</th>\n",
       "      <th class=\"blank col9\" >&nbsp;</th>\n",
       "      <th class=\"blank col10\" >&nbsp;</th>\n",
       "      <th class=\"blank col11\" >&nbsp;</th>\n",
       "      <th class=\"blank col12\" >&nbsp;</th>\n",
       "      <th class=\"blank col13\" >&nbsp;</th>\n",
       "      <th class=\"blank col14\" >&nbsp;</th>\n",
       "      <th class=\"blank col15\" >&nbsp;</th>\n",
       "      <th class=\"blank col16\" >&nbsp;</th>\n",
       "      <th class=\"blank col17\" >&nbsp;</th>\n",
       "    </tr>\n",
       "  </thead>\n",
       "  <tbody>\n",
       "    <tr>\n",
       "      <th id=\"T_00797_level0_row0\" class=\"row_heading level0 row0\" >0</th>\n",
       "      <td id=\"T_00797_row0_col0\" class=\"data row0 col0\" >0</td>\n",
       "      <td id=\"T_00797_row0_col1\" class=\"data row0 col1\" >0</td>\n",
       "      <td id=\"T_00797_row0_col2\" class=\"data row0 col2\" >0</td>\n",
       "      <td id=\"T_00797_row0_col3\" class=\"data row0 col3\" >0</td>\n",
       "      <td id=\"T_00797_row0_col4\" class=\"data row0 col4\" >0</td>\n",
       "      <td id=\"T_00797_row0_col5\" class=\"data row0 col5\" >0</td>\n",
       "      <td id=\"T_00797_row0_col6\" class=\"data row0 col6\" >0</td>\n",
       "      <td id=\"T_00797_row0_col7\" class=\"data row0 col7\" >0</td>\n",
       "      <td id=\"T_00797_row0_col8\" class=\"data row0 col8\" >0</td>\n",
       "      <td id=\"T_00797_row0_col9\" class=\"data row0 col9\" >32</td>\n",
       "      <td id=\"T_00797_row0_col10\" class=\"data row0 col10\" >30</td>\n",
       "      <td id=\"T_00797_row0_col11\" class=\"data row0 col11\" >0</td>\n",
       "      <td id=\"T_00797_row0_col12\" class=\"data row0 col12\" >0</td>\n",
       "      <td id=\"T_00797_row0_col13\" class=\"data row0 col13\" >0</td>\n",
       "      <td id=\"T_00797_row0_col14\" class=\"data row0 col14\" >0</td>\n",
       "      <td id=\"T_00797_row0_col15\" class=\"data row0 col15\" >0</td>\n",
       "      <td id=\"T_00797_row0_col16\" class=\"data row0 col16\" >0</td>\n",
       "      <td id=\"T_00797_row0_col17\" class=\"data row0 col17\" >0</td>\n",
       "    </tr>\n",
       "    <tr>\n",
       "      <th id=\"T_00797_level0_row1\" class=\"row_heading level0 row1\" >10</th>\n",
       "      <td id=\"T_00797_row1_col0\" class=\"data row1 col0\" >0</td>\n",
       "      <td id=\"T_00797_row1_col1\" class=\"data row1 col1\" >0</td>\n",
       "      <td id=\"T_00797_row1_col2\" class=\"data row1 col2\" >0</td>\n",
       "      <td id=\"T_00797_row1_col3\" class=\"data row1 col3\" >0</td>\n",
       "      <td id=\"T_00797_row1_col4\" class=\"data row1 col4\" >0</td>\n",
       "      <td id=\"T_00797_row1_col5\" class=\"data row1 col5\" >0</td>\n",
       "      <td id=\"T_00797_row1_col6\" class=\"data row1 col6\" >0</td>\n",
       "      <td id=\"T_00797_row1_col7\" class=\"data row1 col7\" >0</td>\n",
       "      <td id=\"T_00797_row1_col8\" class=\"data row1 col8\" >0</td>\n",
       "      <td id=\"T_00797_row1_col9\" class=\"data row1 col9\" >4</td>\n",
       "      <td id=\"T_00797_row1_col10\" class=\"data row1 col10\" >36</td>\n",
       "      <td id=\"T_00797_row1_col11\" class=\"data row1 col11\" >0</td>\n",
       "      <td id=\"T_00797_row1_col12\" class=\"data row1 col12\" >0</td>\n",
       "      <td id=\"T_00797_row1_col13\" class=\"data row1 col13\" >53</td>\n",
       "      <td id=\"T_00797_row1_col14\" class=\"data row1 col14\" >9</td>\n",
       "      <td id=\"T_00797_row1_col15\" class=\"data row1 col15\" >0</td>\n",
       "      <td id=\"T_00797_row1_col16\" class=\"data row1 col16\" >0</td>\n",
       "      <td id=\"T_00797_row1_col17\" class=\"data row1 col17\" >0</td>\n",
       "    </tr>\n",
       "    <tr>\n",
       "      <th id=\"T_00797_level0_row2\" class=\"row_heading level0 row2\" >20</th>\n",
       "      <td id=\"T_00797_row2_col0\" class=\"data row2 col0\" >0</td>\n",
       "      <td id=\"T_00797_row2_col1\" class=\"data row2 col1\" >0</td>\n",
       "      <td id=\"T_00797_row2_col2\" class=\"data row2 col2\" >0</td>\n",
       "      <td id=\"T_00797_row2_col3\" class=\"data row2 col3\" >0</td>\n",
       "      <td id=\"T_00797_row2_col4\" class=\"data row2 col4\" >0</td>\n",
       "      <td id=\"T_00797_row2_col5\" class=\"data row2 col5\" >1</td>\n",
       "      <td id=\"T_00797_row2_col6\" class=\"data row2 col6\" >0</td>\n",
       "      <td id=\"T_00797_row2_col7\" class=\"data row2 col7\" >0</td>\n",
       "      <td id=\"T_00797_row2_col8\" class=\"data row2 col8\" >0</td>\n",
       "      <td id=\"T_00797_row2_col9\" class=\"data row2 col9\" >0</td>\n",
       "      <td id=\"T_00797_row2_col10\" class=\"data row2 col10\" >40</td>\n",
       "      <td id=\"T_00797_row2_col11\" class=\"data row2 col11\" >2</td>\n",
       "      <td id=\"T_00797_row2_col12\" class=\"data row2 col12\" >1</td>\n",
       "      <td id=\"T_00797_row2_col13\" class=\"data row2 col13\" >145</td>\n",
       "      <td id=\"T_00797_row2_col14\" class=\"data row2 col14\" >28</td>\n",
       "      <td id=\"T_00797_row2_col15\" class=\"data row2 col15\" >1</td>\n",
       "      <td id=\"T_00797_row2_col16\" class=\"data row2 col16\" >2</td>\n",
       "      <td id=\"T_00797_row2_col17\" class=\"data row2 col17\" >0</td>\n",
       "    </tr>\n",
       "    <tr>\n",
       "      <th id=\"T_00797_level0_row3\" class=\"row_heading level0 row3\" >30</th>\n",
       "      <td id=\"T_00797_row3_col0\" class=\"data row3 col0\" >0</td>\n",
       "      <td id=\"T_00797_row3_col1\" class=\"data row3 col1\" >0</td>\n",
       "      <td id=\"T_00797_row3_col2\" class=\"data row3 col2\" >1</td>\n",
       "      <td id=\"T_00797_row3_col3\" class=\"data row3 col3\" >0</td>\n",
       "      <td id=\"T_00797_row3_col4\" class=\"data row3 col4\" >0</td>\n",
       "      <td id=\"T_00797_row3_col5\" class=\"data row3 col5\" >1</td>\n",
       "      <td id=\"T_00797_row3_col6\" class=\"data row3 col6\" >1</td>\n",
       "      <td id=\"T_00797_row3_col7\" class=\"data row3 col7\" >0</td>\n",
       "      <td id=\"T_00797_row3_col8\" class=\"data row3 col8\" >0</td>\n",
       "      <td id=\"T_00797_row3_col9\" class=\"data row3 col9\" >0</td>\n",
       "      <td id=\"T_00797_row3_col10\" class=\"data row3 col10\" >28</td>\n",
       "      <td id=\"T_00797_row3_col11\" class=\"data row3 col11\" >0</td>\n",
       "      <td id=\"T_00797_row3_col12\" class=\"data row3 col12\" >0</td>\n",
       "      <td id=\"T_00797_row3_col13\" class=\"data row3 col13\" >105</td>\n",
       "      <td id=\"T_00797_row3_col14\" class=\"data row3 col14\" >31</td>\n",
       "      <td id=\"T_00797_row3_col15\" class=\"data row3 col15\" >0</td>\n",
       "      <td id=\"T_00797_row3_col16\" class=\"data row3 col16\" >0</td>\n",
       "      <td id=\"T_00797_row3_col17\" class=\"data row3 col17\" >0</td>\n",
       "    </tr>\n",
       "    <tr>\n",
       "      <th id=\"T_00797_level0_row4\" class=\"row_heading level0 row4\" >40</th>\n",
       "      <td id=\"T_00797_row4_col0\" class=\"data row4 col0\" >0</td>\n",
       "      <td id=\"T_00797_row4_col1\" class=\"data row4 col1\" >0</td>\n",
       "      <td id=\"T_00797_row4_col2\" class=\"data row4 col2\" >0</td>\n",
       "      <td id=\"T_00797_row4_col3\" class=\"data row4 col3\" >1</td>\n",
       "      <td id=\"T_00797_row4_col4\" class=\"data row4 col4\" >1</td>\n",
       "      <td id=\"T_00797_row4_col5\" class=\"data row4 col5\" >1</td>\n",
       "      <td id=\"T_00797_row4_col6\" class=\"data row4 col6\" >0</td>\n",
       "      <td id=\"T_00797_row4_col7\" class=\"data row4 col7\" >1</td>\n",
       "      <td id=\"T_00797_row4_col8\" class=\"data row4 col8\" >1</td>\n",
       "      <td id=\"T_00797_row4_col9\" class=\"data row4 col9\" >0</td>\n",
       "      <td id=\"T_00797_row4_col10\" class=\"data row4 col10\" >5</td>\n",
       "      <td id=\"T_00797_row4_col11\" class=\"data row4 col11\" >0</td>\n",
       "      <td id=\"T_00797_row4_col12\" class=\"data row4 col12\" >0</td>\n",
       "      <td id=\"T_00797_row4_col13\" class=\"data row4 col13\" >52</td>\n",
       "      <td id=\"T_00797_row4_col14\" class=\"data row4 col14\" >25</td>\n",
       "      <td id=\"T_00797_row4_col15\" class=\"data row4 col15\" >0</td>\n",
       "      <td id=\"T_00797_row4_col16\" class=\"data row4 col16\" >1</td>\n",
       "      <td id=\"T_00797_row4_col17\" class=\"data row4 col17\" >1</td>\n",
       "    </tr>\n",
       "    <tr>\n",
       "      <th id=\"T_00797_level0_row5\" class=\"row_heading level0 row5\" >50</th>\n",
       "      <td id=\"T_00797_row5_col0\" class=\"data row5 col0\" >0</td>\n",
       "      <td id=\"T_00797_row5_col1\" class=\"data row5 col1\" >1</td>\n",
       "      <td id=\"T_00797_row5_col2\" class=\"data row5 col2\" >0</td>\n",
       "      <td id=\"T_00797_row5_col3\" class=\"data row5 col3\" >0</td>\n",
       "      <td id=\"T_00797_row5_col4\" class=\"data row5 col4\" >0</td>\n",
       "      <td id=\"T_00797_row5_col5\" class=\"data row5 col5\" >2</td>\n",
       "      <td id=\"T_00797_row5_col6\" class=\"data row5 col6\" >0</td>\n",
       "      <td id=\"T_00797_row5_col7\" class=\"data row5 col7\" >0</td>\n",
       "      <td id=\"T_00797_row5_col8\" class=\"data row5 col8\" >1</td>\n",
       "      <td id=\"T_00797_row5_col9\" class=\"data row5 col9\" >0</td>\n",
       "      <td id=\"T_00797_row5_col10\" class=\"data row5 col10\" >6</td>\n",
       "      <td id=\"T_00797_row5_col11\" class=\"data row5 col11\" >0</td>\n",
       "      <td id=\"T_00797_row5_col12\" class=\"data row5 col12\" >0</td>\n",
       "      <td id=\"T_00797_row5_col13\" class=\"data row5 col13\" >23</td>\n",
       "      <td id=\"T_00797_row5_col14\" class=\"data row5 col14\" >12</td>\n",
       "      <td id=\"T_00797_row5_col15\" class=\"data row5 col15\" >0</td>\n",
       "      <td id=\"T_00797_row5_col16\" class=\"data row5 col16\" >3</td>\n",
       "      <td id=\"T_00797_row5_col17\" class=\"data row5 col17\" >0</td>\n",
       "    </tr>\n",
       "    <tr>\n",
       "      <th id=\"T_00797_level0_row6\" class=\"row_heading level0 row6\" >60</th>\n",
       "      <td id=\"T_00797_row6_col0\" class=\"data row6 col0\" >0</td>\n",
       "      <td id=\"T_00797_row6_col1\" class=\"data row6 col1\" >1</td>\n",
       "      <td id=\"T_00797_row6_col2\" class=\"data row6 col2\" >0</td>\n",
       "      <td id=\"T_00797_row6_col3\" class=\"data row6 col3\" >0</td>\n",
       "      <td id=\"T_00797_row6_col4\" class=\"data row6 col4\" >0</td>\n",
       "      <td id=\"T_00797_row6_col5\" class=\"data row6 col5\" >0</td>\n",
       "      <td id=\"T_00797_row6_col6\" class=\"data row6 col6\" >0</td>\n",
       "      <td id=\"T_00797_row6_col7\" class=\"data row6 col7\" >0</td>\n",
       "      <td id=\"T_00797_row6_col8\" class=\"data row6 col8\" >0</td>\n",
       "      <td id=\"T_00797_row6_col9\" class=\"data row6 col9\" >0</td>\n",
       "      <td id=\"T_00797_row6_col10\" class=\"data row6 col10\" >1</td>\n",
       "      <td id=\"T_00797_row6_col11\" class=\"data row6 col11\" >0</td>\n",
       "      <td id=\"T_00797_row6_col12\" class=\"data row6 col12\" >0</td>\n",
       "      <td id=\"T_00797_row6_col13\" class=\"data row6 col13\" >14</td>\n",
       "      <td id=\"T_00797_row6_col14\" class=\"data row6 col14\" >3</td>\n",
       "      <td id=\"T_00797_row6_col15\" class=\"data row6 col15\" >0</td>\n",
       "      <td id=\"T_00797_row6_col16\" class=\"data row6 col16\" >0</td>\n",
       "      <td id=\"T_00797_row6_col17\" class=\"data row6 col17\" >0</td>\n",
       "    </tr>\n",
       "    <tr>\n",
       "      <th id=\"T_00797_level0_row7\" class=\"row_heading level0 row7\" >70</th>\n",
       "      <td id=\"T_00797_row7_col0\" class=\"data row7 col0\" >1</td>\n",
       "      <td id=\"T_00797_row7_col1\" class=\"data row7 col1\" >0</td>\n",
       "      <td id=\"T_00797_row7_col2\" class=\"data row7 col2\" >0</td>\n",
       "      <td id=\"T_00797_row7_col3\" class=\"data row7 col3\" >0</td>\n",
       "      <td id=\"T_00797_row7_col4\" class=\"data row7 col4\" >0</td>\n",
       "      <td id=\"T_00797_row7_col5\" class=\"data row7 col5\" >0</td>\n",
       "      <td id=\"T_00797_row7_col6\" class=\"data row7 col6\" >0</td>\n",
       "      <td id=\"T_00797_row7_col7\" class=\"data row7 col7\" >0</td>\n",
       "      <td id=\"T_00797_row7_col8\" class=\"data row7 col8\" >0</td>\n",
       "      <td id=\"T_00797_row7_col9\" class=\"data row7 col9\" >0</td>\n",
       "      <td id=\"T_00797_row7_col10\" class=\"data row7 col10\" >0</td>\n",
       "      <td id=\"T_00797_row7_col11\" class=\"data row7 col11\" >0</td>\n",
       "      <td id=\"T_00797_row7_col12\" class=\"data row7 col12\" >0</td>\n",
       "      <td id=\"T_00797_row7_col13\" class=\"data row7 col13\" >5</td>\n",
       "      <td id=\"T_00797_row7_col14\" class=\"data row7 col14\" >0</td>\n",
       "      <td id=\"T_00797_row7_col15\" class=\"data row7 col15\" >0</td>\n",
       "      <td id=\"T_00797_row7_col16\" class=\"data row7 col16\" >0</td>\n",
       "      <td id=\"T_00797_row7_col17\" class=\"data row7 col17\" >0</td>\n",
       "    </tr>\n",
       "    <tr>\n",
       "      <th id=\"T_00797_level0_row8\" class=\"row_heading level0 row8\" >80</th>\n",
       "      <td id=\"T_00797_row8_col0\" class=\"data row8 col0\" >0</td>\n",
       "      <td id=\"T_00797_row8_col1\" class=\"data row8 col1\" >0</td>\n",
       "      <td id=\"T_00797_row8_col2\" class=\"data row8 col2\" >0</td>\n",
       "      <td id=\"T_00797_row8_col3\" class=\"data row8 col3\" >0</td>\n",
       "      <td id=\"T_00797_row8_col4\" class=\"data row8 col4\" >0</td>\n",
       "      <td id=\"T_00797_row8_col5\" class=\"data row8 col5\" >0</td>\n",
       "      <td id=\"T_00797_row8_col6\" class=\"data row8 col6\" >0</td>\n",
       "      <td id=\"T_00797_row8_col7\" class=\"data row8 col7\" >0</td>\n",
       "      <td id=\"T_00797_row8_col8\" class=\"data row8 col8\" >0</td>\n",
       "      <td id=\"T_00797_row8_col9\" class=\"data row8 col9\" >0</td>\n",
       "      <td id=\"T_00797_row8_col10\" class=\"data row8 col10\" >0</td>\n",
       "      <td id=\"T_00797_row8_col11\" class=\"data row8 col11\" >0</td>\n",
       "      <td id=\"T_00797_row8_col12\" class=\"data row8 col12\" >0</td>\n",
       "      <td id=\"T_00797_row8_col13\" class=\"data row8 col13\" >1</td>\n",
       "      <td id=\"T_00797_row8_col14\" class=\"data row8 col14\" >0</td>\n",
       "      <td id=\"T_00797_row8_col15\" class=\"data row8 col15\" >0</td>\n",
       "      <td id=\"T_00797_row8_col16\" class=\"data row8 col16\" >0</td>\n",
       "      <td id=\"T_00797_row8_col17\" class=\"data row8 col17\" >0</td>\n",
       "    </tr>\n",
       "  </tbody>\n",
       "</table>\n"
      ],
      "text/plain": [
       "<pandas.io.formats.style.Styler at 0x2bf56bd5f10>"
      ]
     },
     "execution_count": 56,
     "metadata": {},
     "output_type": "execute_result"
    }
   ],
   "source": [
    "pd.crosstab([titanic.Initial, titanic.Sex], titanic.age_group).T.style.background_gradient(cmap='summer_r')"
   ]
  },
  {
   "cell_type": "code",
   "execution_count": 57,
   "id": "f57ec663",
   "metadata": {},
   "outputs": [
    {
     "data": {
      "text/plain": [
       "Initial\n",
       "Master     4.574167\n",
       "Miss      21.860000\n",
       "Mr        32.891990\n",
       "Mrs       35.981818\n",
       "Other     42.000000\n",
       "Name: Age, dtype: float64"
      ]
     },
     "execution_count": 57,
     "metadata": {},
     "output_type": "execute_result"
    }
   ],
   "source": [
    "titanic['Initial'].replace(['Capt', 'Col', 'Don', 'Jonkheer', 'Major', 'Mr', 'Rev', 'Sir'], 'Mr', inplace=True)\n",
    "titanic['Initial'].replace(['Countess', 'Lady', 'Mrs'], 'Mrs', inplace=True)\n",
    "titanic['Initial'].replace(['Master'], 'Master', inplace=True)\n",
    "titanic['Initial'].replace(['Miss', 'Mlle', 'Mme', 'Ms'], 'Miss', inplace=True)\n",
    "titanic['Initial'].replace(['Dr'], 'Other', inplace=True)\n",
    "\n",
    "titanic.groupby('Initial')['Age'].mean()"
   ]
  },
  {
   "cell_type": "code",
   "execution_count": 58,
   "id": "a4d88e4f",
   "metadata": {},
   "outputs": [],
   "source": [
    "titanic.loc[(titanic.Age.isnull())&(titanic.Initial=='Mr'),'Age']=33\n",
    "titanic.loc[(titanic.Age.isnull())&(titanic.Initial=='Mrs'),'Age']=36\n",
    "titanic.loc[(titanic.Age.isnull())&(titanic.Initial=='Master'),'Age']=5\n",
    "titanic.loc[(titanic.Age.isnull())&(titanic.Initial=='Miss'),'Age']=22\n",
    "titanic.loc[(titanic.Age.isnull())&(titanic.Initial=='Other'),'Age']=42"
   ]
  },
  {
   "cell_type": "code",
   "execution_count": 59,
   "id": "9b191068",
   "metadata": {},
   "outputs": [
    {
     "data": {
      "text/plain": [
       "<AxesSubplot:xlabel='Survived', ylabel='Age'>"
      ]
     },
     "execution_count": 59,
     "metadata": {},
     "output_type": "execute_result"
    },
    {
     "data": {
      "image/png": "[encoded data removed]",
      "text/plain": [
       "<Figure size 640x480 with 1 Axes>"
      ]
     },
     "metadata": {},
     "output_type": "display_data"
    }
   ],
   "source": [
    "sns.boxenplot(y=titanic[\"Age\"], x=titanic[\"Survived\"])"
   ]
  },
  {
   "cell_type": "code",
   "execution_count": 91,
   "id": "e43a6a1e",
   "metadata": {},
   "outputs": [
    {
     "data": {
      "image/png": "[encoded data removed]",
      "text/plain": [
       "<Figure size 572.111x500 with 1 Axes>"
      ]
     },
     "metadata": {},
     "output_type": "display_data"
    }
   ],
   "source": [
    "sns.displot(titanic, x='Age', hue=\"Survived\", kde=True)\n",
    "plt.show()"
   ]
  },
  {
   "cell_type": "code",
   "execution_count": 60,
   "id": "07580f6b",
   "metadata": {},
   "outputs": [
    {
     "data": {
      "text/plain": [
       "<AxesSubplot:xlabel='age_group'>"
      ]
     },
     "execution_count": 60,
     "metadata": {},
     "output_type": "execute_result"
    },
    {
     "data": {
      "image/png": "[encoded data removed]",
      "text/plain": [
       "<Figure size 640x480 with 1 Axes>"
      ]
     },
     "metadata": {},
     "output_type": "display_data"
    }
   ],
   "source": [
    "a = titanic.groupby(\"age_group\")[\"Survived\"].value_counts()\n",
    "a.unstack().plot.bar(stacked=True)"
   ]
  },
  {
   "cell_type": "markdown",
   "id": "c9c6bb92",
   "metadata": {},
   "source": [
    "### 4) 부모-자식 관계 혹은 부모나 자식과 오지 않은 경우에 따라 생존율이 변화할 것이다."
   ]
  },
  {
   "cell_type": "code",
   "execution_count": 62,
   "id": "a7eb17b9",
   "metadata": {},
   "outputs": [
    {
     "data": {
      "text/html": [
       "<div>\n",
       "<style scoped>\n",
       "    .dataframe tbody tr th:only-of-type {\n",
       "        vertical-align: middle;\n",
       "    }\n",
       "\n",
       "    .dataframe tbody tr th {\n",
       "        vertical-align: top;\n",
       "    }\n",
       "\n",
       "    .dataframe thead th {\n",
       "        text-align: right;\n",
       "    }\n",
       "</style>\n",
       "<table border=\"1\" class=\"dataframe\">\n",
       "  <thead>\n",
       "    <tr style=\"text-align: right;\">\n",
       "      <th></th>\n",
       "      <th>Survived</th>\n",
       "      <th>Pclass</th>\n",
       "      <th>Name</th>\n",
       "      <th>Sex</th>\n",
       "      <th>Age</th>\n",
       "      <th>SibSp</th>\n",
       "      <th>Parch</th>\n",
       "      <th>Ticket</th>\n",
       "      <th>Fare</th>\n",
       "      <th>Cabin</th>\n",
       "      <th>Embarked</th>\n",
       "      <th>age_group</th>\n",
       "      <th>Initial</th>\n",
       "      <th>family_member</th>\n",
       "    </tr>\n",
       "    <tr>\n",
       "      <th>PassengerId</th>\n",
       "      <th></th>\n",
       "      <th></th>\n",
       "      <th></th>\n",
       "      <th></th>\n",
       "      <th></th>\n",
       "      <th></th>\n",
       "      <th></th>\n",
       "      <th></th>\n",
       "      <th></th>\n",
       "      <th></th>\n",
       "      <th></th>\n",
       "      <th></th>\n",
       "      <th></th>\n",
       "      <th></th>\n",
       "    </tr>\n",
       "  </thead>\n",
       "  <tbody>\n",
       "    <tr>\n",
       "      <th>1</th>\n",
       "      <td>0</td>\n",
       "      <td>3</td>\n",
       "      <td>Braund, Mr. Owen Harris</td>\n",
       "      <td>male</td>\n",
       "      <td>22.0</td>\n",
       "      <td>1</td>\n",
       "      <td>0</td>\n",
       "      <td>A/5 21171</td>\n",
       "      <td>7.2500</td>\n",
       "      <td>NaN</td>\n",
       "      <td>S</td>\n",
       "      <td>20</td>\n",
       "      <td>Mr</td>\n",
       "      <td>parent</td>\n",
       "    </tr>\n",
       "    <tr>\n",
       "      <th>2</th>\n",
       "      <td>1</td>\n",
       "      <td>1</td>\n",
       "      <td>Cumings, Mrs. John Bradley (Florence Briggs Th...</td>\n",
       "      <td>female</td>\n",
       "      <td>38.0</td>\n",
       "      <td>1</td>\n",
       "      <td>0</td>\n",
       "      <td>PC 17599</td>\n",
       "      <td>71.2833</td>\n",
       "      <td>C85</td>\n",
       "      <td>C</td>\n",
       "      <td>30</td>\n",
       "      <td>Mrs</td>\n",
       "      <td>parent</td>\n",
       "    </tr>\n",
       "    <tr>\n",
       "      <th>3</th>\n",
       "      <td>1</td>\n",
       "      <td>3</td>\n",
       "      <td>Heikkinen, Miss. Laina</td>\n",
       "      <td>female</td>\n",
       "      <td>26.0</td>\n",
       "      <td>0</td>\n",
       "      <td>0</td>\n",
       "      <td>STON/O2. 3101282</td>\n",
       "      <td>7.9250</td>\n",
       "      <td>NaN</td>\n",
       "      <td>S</td>\n",
       "      <td>20</td>\n",
       "      <td>Miss</td>\n",
       "      <td>alone</td>\n",
       "    </tr>\n",
       "    <tr>\n",
       "      <th>4</th>\n",
       "      <td>1</td>\n",
       "      <td>1</td>\n",
       "      <td>Futrelle, Mrs. Jacques Heath (Lily May Peel)</td>\n",
       "      <td>female</td>\n",
       "      <td>35.0</td>\n",
       "      <td>1</td>\n",
       "      <td>0</td>\n",
       "      <td>113803</td>\n",
       "      <td>53.1000</td>\n",
       "      <td>C123</td>\n",
       "      <td>S</td>\n",
       "      <td>30</td>\n",
       "      <td>Mrs</td>\n",
       "      <td>parent</td>\n",
       "    </tr>\n",
       "    <tr>\n",
       "      <th>5</th>\n",
       "      <td>0</td>\n",
       "      <td>3</td>\n",
       "      <td>Allen, Mr. William Henry</td>\n",
       "      <td>male</td>\n",
       "      <td>35.0</td>\n",
       "      <td>0</td>\n",
       "      <td>0</td>\n",
       "      <td>373450</td>\n",
       "      <td>8.0500</td>\n",
       "      <td>NaN</td>\n",
       "      <td>S</td>\n",
       "      <td>30</td>\n",
       "      <td>Mr</td>\n",
       "      <td>alone</td>\n",
       "    </tr>\n",
       "  </tbody>\n",
       "</table>\n",
       "</div>"
      ],
      "text/plain": [
       "             Survived  Pclass  \\\n",
       "PassengerId                     \n",
       "1                   0       3   \n",
       "2                   1       1   \n",
       "3                   1       3   \n",
       "4                   1       1   \n",
       "5                   0       3   \n",
       "\n",
       "                                                          Name     Sex   Age  \\\n",
       "PassengerId                                                                    \n",
       "1                                      Braund, Mr. Owen Harris    male  22.0   \n",
       "2            Cumings, Mrs. John Bradley (Florence Briggs Th...  female  38.0   \n",
       "3                                       Heikkinen, Miss. Laina  female  26.0   \n",
       "4                 Futrelle, Mrs. Jacques Heath (Lily May Peel)  female  35.0   \n",
       "5                                     Allen, Mr. William Henry    male  35.0   \n",
       "\n",
       "             SibSp  Parch            Ticket     Fare Cabin Embarked age_group  \\\n",
       "PassengerId                                                                     \n",
       "1                1      0         A/5 21171   7.2500   NaN        S        20   \n",
       "2                1      0          PC 17599  71.2833   C85        C        30   \n",
       "3                0      0  STON/O2. 3101282   7.9250   NaN        S        20   \n",
       "4                1      0            113803  53.1000  C123        S        30   \n",
       "5                0      0            373450   8.0500   NaN        S        30   \n",
       "\n",
       "            Initial family_member  \n",
       "PassengerId                        \n",
       "1                Mr        parent  \n",
       "2               Mrs        parent  \n",
       "3              Miss         alone  \n",
       "4               Mrs        parent  \n",
       "5                Mr         alone  "
      ]
     },
     "execution_count": 62,
     "metadata": {},
     "output_type": "execute_result"
    }
   ],
   "source": [
    "titanic['family_member'] = 0\n",
    "\n",
    "titanic.loc[(titanic.SibSp!=0)&(titanic.Initial=='Mr'),'family_member'] = 'parent'\n",
    "titanic.loc[(titanic.SibSp!=0)&(titanic.Initial=='Mrs'),'family_member'] = 'parent'\n",
    "titanic.loc[(titanic.SibSp!=0)&(titanic.Initial=='Other'),'family_member'] = 'parent'\n",
    "titanic.loc[(titanic.SibSp!=0)&(titanic.Initial=='Master'),'family_member'] = 'child'\n",
    "titanic.loc[(titanic.SibSp!=0)&(titanic.Initial=='Miss'),'family_member'] = 'child'\n",
    "titanic.loc[(titanic.SibSp==0),'family_member'] = 'alone'\n",
    "titanic.head()"
   ]
  },
  {
   "cell_type": "code",
   "execution_count": 63,
   "id": "40671fa7",
   "metadata": {},
   "outputs": [
    {
     "data": {
      "text/plain": [
       "alone     608\n",
       "parent    190\n",
       "child      93\n",
       "Name: family_member, dtype: int64"
      ]
     },
     "execution_count": 63,
     "metadata": {},
     "output_type": "execute_result"
    }
   ],
   "source": [
    "titanic['family_member'].value_counts()"
   ]
  },
  {
   "cell_type": "code",
   "execution_count": 64,
   "id": "98a17239",
   "metadata": {},
   "outputs": [
    {
     "data": {
      "image/png": "[encoded data removed]",
      "text/plain": [
       "<Figure size 640x480 with 1 Axes>"
      ]
     },
     "metadata": {},
     "output_type": "display_data"
    }
   ],
   "source": [
    "a = titanic.groupby(\"family_member\")[\"Survived\"].value_counts()\n",
    "a.unstack().plot.bar(stacked=True)\n",
    "\n",
    "plt.show()"
   ]
  },
  {
   "cell_type": "code",
   "execution_count": 65,
   "id": "4eb33e4a",
   "metadata": {},
   "outputs": [
    {
     "data": {
      "text/html": [
       "<div>\n",
       "<style scoped>\n",
       "    .dataframe tbody tr th:only-of-type {\n",
       "        vertical-align: middle;\n",
       "    }\n",
       "\n",
       "    .dataframe tbody tr th {\n",
       "        vertical-align: top;\n",
       "    }\n",
       "\n",
       "    .dataframe thead th {\n",
       "        text-align: right;\n",
       "    }\n",
       "</style>\n",
       "<table border=\"1\" class=\"dataframe\">\n",
       "  <thead>\n",
       "    <tr style=\"text-align: right;\">\n",
       "      <th></th>\n",
       "      <th>Survived</th>\n",
       "      <th>Pclass</th>\n",
       "      <th>Name</th>\n",
       "      <th>Sex</th>\n",
       "      <th>Age</th>\n",
       "      <th>SibSp</th>\n",
       "      <th>Parch</th>\n",
       "      <th>Ticket</th>\n",
       "      <th>Fare</th>\n",
       "      <th>Cabin</th>\n",
       "      <th>Embarked</th>\n",
       "      <th>age_group</th>\n",
       "      <th>Initial</th>\n",
       "      <th>family_member</th>\n",
       "    </tr>\n",
       "    <tr>\n",
       "      <th>PassengerId</th>\n",
       "      <th></th>\n",
       "      <th></th>\n",
       "      <th></th>\n",
       "      <th></th>\n",
       "      <th></th>\n",
       "      <th></th>\n",
       "      <th></th>\n",
       "      <th></th>\n",
       "      <th></th>\n",
       "      <th></th>\n",
       "      <th></th>\n",
       "      <th></th>\n",
       "      <th></th>\n",
       "      <th></th>\n",
       "    </tr>\n",
       "  </thead>\n",
       "  <tbody>\n",
       "    <tr>\n",
       "      <th>1</th>\n",
       "      <td>0</td>\n",
       "      <td>3</td>\n",
       "      <td>Braund, Mr. Owen Harris</td>\n",
       "      <td>male</td>\n",
       "      <td>22.0</td>\n",
       "      <td>1</td>\n",
       "      <td>0</td>\n",
       "      <td>A/5 21171</td>\n",
       "      <td>7.2500</td>\n",
       "      <td>NaN</td>\n",
       "      <td>S</td>\n",
       "      <td>20</td>\n",
       "      <td>Mr</td>\n",
       "      <td>father</td>\n",
       "    </tr>\n",
       "    <tr>\n",
       "      <th>2</th>\n",
       "      <td>1</td>\n",
       "      <td>1</td>\n",
       "      <td>Cumings, Mrs. John Bradley (Florence Briggs Th...</td>\n",
       "      <td>female</td>\n",
       "      <td>38.0</td>\n",
       "      <td>1</td>\n",
       "      <td>0</td>\n",
       "      <td>PC 17599</td>\n",
       "      <td>71.2833</td>\n",
       "      <td>C85</td>\n",
       "      <td>C</td>\n",
       "      <td>30</td>\n",
       "      <td>Mrs</td>\n",
       "      <td>mather</td>\n",
       "    </tr>\n",
       "    <tr>\n",
       "      <th>3</th>\n",
       "      <td>1</td>\n",
       "      <td>3</td>\n",
       "      <td>Heikkinen, Miss. Laina</td>\n",
       "      <td>female</td>\n",
       "      <td>26.0</td>\n",
       "      <td>0</td>\n",
       "      <td>0</td>\n",
       "      <td>STON/O2. 3101282</td>\n",
       "      <td>7.9250</td>\n",
       "      <td>NaN</td>\n",
       "      <td>S</td>\n",
       "      <td>20</td>\n",
       "      <td>Miss</td>\n",
       "      <td>alone</td>\n",
       "    </tr>\n",
       "    <tr>\n",
       "      <th>4</th>\n",
       "      <td>1</td>\n",
       "      <td>1</td>\n",
       "      <td>Futrelle, Mrs. Jacques Heath (Lily May Peel)</td>\n",
       "      <td>female</td>\n",
       "      <td>35.0</td>\n",
       "      <td>1</td>\n",
       "      <td>0</td>\n",
       "      <td>113803</td>\n",
       "      <td>53.1000</td>\n",
       "      <td>C123</td>\n",
       "      <td>S</td>\n",
       "      <td>30</td>\n",
       "      <td>Mrs</td>\n",
       "      <td>mather</td>\n",
       "    </tr>\n",
       "    <tr>\n",
       "      <th>5</th>\n",
       "      <td>0</td>\n",
       "      <td>3</td>\n",
       "      <td>Allen, Mr. William Henry</td>\n",
       "      <td>male</td>\n",
       "      <td>35.0</td>\n",
       "      <td>0</td>\n",
       "      <td>0</td>\n",
       "      <td>373450</td>\n",
       "      <td>8.0500</td>\n",
       "      <td>NaN</td>\n",
       "      <td>S</td>\n",
       "      <td>30</td>\n",
       "      <td>Mr</td>\n",
       "      <td>alone</td>\n",
       "    </tr>\n",
       "  </tbody>\n",
       "</table>\n",
       "</div>"
      ],
      "text/plain": [
       "             Survived  Pclass  \\\n",
       "PassengerId                     \n",
       "1                   0       3   \n",
       "2                   1       1   \n",
       "3                   1       3   \n",
       "4                   1       1   \n",
       "5                   0       3   \n",
       "\n",
       "                                                          Name     Sex   Age  \\\n",
       "PassengerId                                                                    \n",
       "1                                      Braund, Mr. Owen Harris    male  22.0   \n",
       "2            Cumings, Mrs. John Bradley (Florence Briggs Th...  female  38.0   \n",
       "3                                       Heikkinen, Miss. Laina  female  26.0   \n",
       "4                 Futrelle, Mrs. Jacques Heath (Lily May Peel)  female  35.0   \n",
       "5                                     Allen, Mr. William Henry    male  35.0   \n",
       "\n",
       "             SibSp  Parch            Ticket     Fare Cabin Embarked age_group  \\\n",
       "PassengerId                                                                     \n",
       "1                1      0         A/5 21171   7.2500   NaN        S        20   \n",
       "2                1      0          PC 17599  71.2833   C85        C        30   \n",
       "3                0      0  STON/O2. 3101282   7.9250   NaN        S        20   \n",
       "4                1      0            113803  53.1000  C123        S        30   \n",
       "5                0      0            373450   8.0500   NaN        S        30   \n",
       "\n",
       "            Initial family_member  \n",
       "PassengerId                        \n",
       "1                Mr        father  \n",
       "2               Mrs        mather  \n",
       "3              Miss         alone  \n",
       "4               Mrs        mather  \n",
       "5                Mr         alone  "
      ]
     },
     "execution_count": 65,
     "metadata": {},
     "output_type": "execute_result"
    }
   ],
   "source": [
    "titanic['family_member'] = 0\n",
    "\n",
    "titanic.loc[(titanic.SibSp!=0)&(titanic.Initial=='Mr'),'family_member'] = 'father'\n",
    "titanic.loc[(titanic.SibSp!=0)&(titanic.Initial=='Mrs'),'family_member'] = 'mather'\n",
    "titanic.loc[(titanic.SibSp!=0)&(titanic.Initial=='Other'),'family_member'] = 'parent'\n",
    "titanic.loc[(titanic.SibSp!=0)&(titanic.Initial=='Master'),'family_member'] = 'son'\n",
    "titanic.loc[(titanic.SibSp!=0)&(titanic.Initial=='Miss'),'family_member'] = 'daugther'\n",
    "titanic.loc[(titanic.SibSp==0),'family_member'] = 'alone'\n",
    "titanic.head()"
   ]
  },
  {
   "cell_type": "code",
   "execution_count": 66,
   "id": "ed88a1f2",
   "metadata": {},
   "outputs": [
    {
     "data": {
      "text/plain": [
       "alone       608\n",
       "father      107\n",
       "mather       81\n",
       "daugther     59\n",
       "son          34\n",
       "parent        2\n",
       "Name: family_member, dtype: int64"
      ]
     },
     "execution_count": 66,
     "metadata": {},
     "output_type": "execute_result"
    }
   ],
   "source": [
    "titanic['family_member'].value_counts()"
   ]
  },
  {
   "cell_type": "code",
   "execution_count": 67,
   "id": "6072d7e6",
   "metadata": {},
   "outputs": [
    {
     "data": {
      "image/png": "[encoded data removed]",
      "text/plain": [
       "<Figure size 640x480 with 1 Axes>"
      ]
     },
     "metadata": {},
     "output_type": "display_data"
    }
   ],
   "source": [
    "a = titanic.groupby(\"family_member\")[\"Survived\"].value_counts()\n",
    "a.unstack().plot.bar(stacked=True)\n",
    "\n",
    "plt.show()"
   ]
  },
  {
   "cell_type": "code",
   "execution_count": null,
   "id": "f1d42f08",
   "metadata": {},
   "outputs": [],
   "source": []
  },
  {
   "cell_type": "markdown",
   "id": "5895ae22",
   "metadata": {},
   "source": [
    "### 5) 함께 온 가족 수가 생존율에 영향을 줄 것이다."
   ]
  },
  {
   "cell_type": "code",
   "execution_count": 68,
   "id": "a943a36c",
   "metadata": {},
   "outputs": [
    {
     "data": {
      "text/plain": [
       "<AxesSubplot:xlabel='family_size', ylabel='count'>"
      ]
     },
     "execution_count": 68,
     "metadata": {},
     "output_type": "execute_result"
    },
    {
     "data": {
      "image/png": "[encoded data removed]",
      "text/plain": [
       "<Figure size 640x480 with 1 Axes>"
      ]
     },
     "metadata": {},
     "output_type": "display_data"
    }
   ],
   "source": [
    "titanic[\"family_size\"] = 0\n",
    "\n",
    "titanic[\"family_size\"] = titanic.Parch+titanic.SibSp\n",
    "sns.countplot(x=titanic[\"family_size\"])"
   ]
  },
  {
   "cell_type": "code",
   "execution_count": 69,
   "id": "b3517760",
   "metadata": {},
   "outputs": [
    {
     "data": {
      "image/png": "[encoded data removed]",
      "text/plain": [
       "<Figure size 640x480 with 1 Axes>"
      ]
     },
     "metadata": {},
     "output_type": "display_data"
    }
   ],
   "source": [
    "a = titanic.groupby(\"family_size\")[\"Survived\"].value_counts()\n",
    "a.unstack().plot.bar(stacked=True)\n",
    "\n",
    "plt.show()"
   ]
  },
  {
   "cell_type": "code",
   "execution_count": 70,
   "id": "c0bdc4e1",
   "metadata": {},
   "outputs": [
    {
     "data": {
      "text/html": [
       "<style type=\"text/css\">\n",
       "#T_91190_row0_col0, #T_91190_row0_col4, #T_91190_row0_col5, #T_91190_row0_col6, #T_91190_row0_col7, #T_91190_row0_col8, #T_91190_row1_col1, #T_91190_row1_col2, #T_91190_row1_col3 {\n",
       "  background-color: #008066;\n",
       "  color: #f1f1f1;\n",
       "}\n",
       "#T_91190_row0_col1, #T_91190_row0_col2, #T_91190_row0_col3, #T_91190_row1_col0, #T_91190_row1_col4, #T_91190_row1_col5, #T_91190_row1_col6, #T_91190_row1_col7, #T_91190_row1_col8 {\n",
       "  background-color: #ffff66;\n",
       "  color: #000000;\n",
       "}\n",
       "</style>\n",
       "<table id=\"T_91190\">\n",
       "  <thead>\n",
       "    <tr>\n",
       "      <th class=\"index_name level0\" >family_size</th>\n",
       "      <th id=\"T_91190_level0_col0\" class=\"col_heading level0 col0\" >0</th>\n",
       "      <th id=\"T_91190_level0_col1\" class=\"col_heading level0 col1\" >1</th>\n",
       "      <th id=\"T_91190_level0_col2\" class=\"col_heading level0 col2\" >2</th>\n",
       "      <th id=\"T_91190_level0_col3\" class=\"col_heading level0 col3\" >3</th>\n",
       "      <th id=\"T_91190_level0_col4\" class=\"col_heading level0 col4\" >4</th>\n",
       "      <th id=\"T_91190_level0_col5\" class=\"col_heading level0 col5\" >5</th>\n",
       "      <th id=\"T_91190_level0_col6\" class=\"col_heading level0 col6\" >6</th>\n",
       "      <th id=\"T_91190_level0_col7\" class=\"col_heading level0 col7\" >7</th>\n",
       "      <th id=\"T_91190_level0_col8\" class=\"col_heading level0 col8\" >10</th>\n",
       "    </tr>\n",
       "    <tr>\n",
       "      <th class=\"index_name level0\" >Survived</th>\n",
       "      <th class=\"blank col0\" >&nbsp;</th>\n",
       "      <th class=\"blank col1\" >&nbsp;</th>\n",
       "      <th class=\"blank col2\" >&nbsp;</th>\n",
       "      <th class=\"blank col3\" >&nbsp;</th>\n",
       "      <th class=\"blank col4\" >&nbsp;</th>\n",
       "      <th class=\"blank col5\" >&nbsp;</th>\n",
       "      <th class=\"blank col6\" >&nbsp;</th>\n",
       "      <th class=\"blank col7\" >&nbsp;</th>\n",
       "      <th class=\"blank col8\" >&nbsp;</th>\n",
       "    </tr>\n",
       "  </thead>\n",
       "  <tbody>\n",
       "    <tr>\n",
       "      <th id=\"T_91190_level0_row0\" class=\"row_heading level0 row0\" >0</th>\n",
       "      <td id=\"T_91190_row0_col0\" class=\"data row0 col0\" >374</td>\n",
       "      <td id=\"T_91190_row0_col1\" class=\"data row0 col1\" >72</td>\n",
       "      <td id=\"T_91190_row0_col2\" class=\"data row0 col2\" >43</td>\n",
       "      <td id=\"T_91190_row0_col3\" class=\"data row0 col3\" >8</td>\n",
       "      <td id=\"T_91190_row0_col4\" class=\"data row0 col4\" >12</td>\n",
       "      <td id=\"T_91190_row0_col5\" class=\"data row0 col5\" >19</td>\n",
       "      <td id=\"T_91190_row0_col6\" class=\"data row0 col6\" >8</td>\n",
       "      <td id=\"T_91190_row0_col7\" class=\"data row0 col7\" >6</td>\n",
       "      <td id=\"T_91190_row0_col8\" class=\"data row0 col8\" >7</td>\n",
       "    </tr>\n",
       "    <tr>\n",
       "      <th id=\"T_91190_level0_row1\" class=\"row_heading level0 row1\" >1</th>\n",
       "      <td id=\"T_91190_row1_col0\" class=\"data row1 col0\" >163</td>\n",
       "      <td id=\"T_91190_row1_col1\" class=\"data row1 col1\" >89</td>\n",
       "      <td id=\"T_91190_row1_col2\" class=\"data row1 col2\" >59</td>\n",
       "      <td id=\"T_91190_row1_col3\" class=\"data row1 col3\" >21</td>\n",
       "      <td id=\"T_91190_row1_col4\" class=\"data row1 col4\" >3</td>\n",
       "      <td id=\"T_91190_row1_col5\" class=\"data row1 col5\" >3</td>\n",
       "      <td id=\"T_91190_row1_col6\" class=\"data row1 col6\" >4</td>\n",
       "      <td id=\"T_91190_row1_col7\" class=\"data row1 col7\" >0</td>\n",
       "      <td id=\"T_91190_row1_col8\" class=\"data row1 col8\" >0</td>\n",
       "    </tr>\n",
       "  </tbody>\n",
       "</table>\n"
      ],
      "text/plain": [
       "<pandas.io.formats.style.Styler at 0x2bf5601b3d0>"
      ]
     },
     "execution_count": 70,
     "metadata": {},
     "output_type": "execute_result"
    }
   ],
   "source": [
    "pd.crosstab(titanic.family_size,titanic.Survived).T.style.background_gradient(cmap='summer_r')"
   ]
  },
  {
   "cell_type": "markdown",
   "id": "641c8bfc",
   "metadata": {},
   "source": [
    "### 6) 선실 번호가 생존율에 영향을 줄 것이다."
   ]
  },
  {
   "cell_type": "code",
   "execution_count": 71,
   "id": "1a1d20ff",
   "metadata": {},
   "outputs": [
    {
     "data": {
      "text/plain": [
       "Pclass  cabin_section\n",
       "1       A                15\n",
       "        B                47\n",
       "        C                59\n",
       "        D                29\n",
       "        E                25\n",
       "        T                 1\n",
       "2       D                 4\n",
       "        E                 4\n",
       "        F                 8\n",
       "3       E                 3\n",
       "        F                 5\n",
       "        G                 4\n",
       "dtype: int64"
      ]
     },
     "execution_count": 71,
     "metadata": {},
     "output_type": "execute_result"
    }
   ],
   "source": [
    "titanic['cabin_section']=0\n",
    "for i in titanic:\n",
    "    titanic['cabin_section']=titanic.Cabin.str.extract('([A-Za-z]+)')\n",
    "titanic[[\"Pclass\", \"cabin_section\"]].value_counts(sort=False)"
   ]
  },
  {
   "cell_type": "code",
   "execution_count": 72,
   "id": "f4d0009d",
   "metadata": {},
   "outputs": [
    {
     "data": {
      "image/png": "[encoded data removed]",
      "text/plain": [
       "<Figure size 640x480 with 1 Axes>"
      ]
     },
     "metadata": {},
     "output_type": "display_data"
    }
   ],
   "source": [
    "sns.boxplot(x=\"cabin_section\", y=\"Fare\", data=titanic)\n",
    "plt.show()"
   ]
  },
  {
   "cell_type": "code",
   "execution_count": 73,
   "id": "e000750a",
   "metadata": {},
   "outputs": [
    {
     "data": {
      "image/png": "[encoded data removed]",
      "text/plain": [
       "<Figure size 640x480 with 1 Axes>"
      ]
     },
     "metadata": {},
     "output_type": "display_data"
    }
   ],
   "source": [
    "a = titanic.groupby(\"cabin_section\")[\"Survived\"].value_counts()\n",
    "a.unstack().plot.bar(stacked=True)\n",
    "\n",
    "plt.show()"
   ]
  },
  {
   "cell_type": "code",
   "execution_count": null,
   "id": "98035de6",
   "metadata": {},
   "outputs": [],
   "source": []
  },
  {
   "cell_type": "markdown",
   "id": "0cf7c420",
   "metadata": {},
   "source": [
    "## 예측하기"
   ]
  },
  {
   "cell_type": "code",
   "execution_count": 74,
   "id": "808a7331",
   "metadata": {},
   "outputs": [
    {
     "data": {
      "text/plain": [
       "<bound method LinearRegression.fit of LinearRegression()>"
      ]
     },
     "execution_count": 74,
     "metadata": {},
     "output_type": "execute_result"
    }
   ],
   "source": [
    "from sklearn.linear_model import LinearRegression\n",
    "\n",
    "lin_reg = LinearRegression()\n",
    "lin_reg.fit"
   ]
  },
  {
   "cell_type": "code",
   "execution_count": 75,
   "id": "b046c078",
   "metadata": {},
   "outputs": [
    {
     "name": "stdout",
     "output_type": "stream",
     "text": [
      "<class 'pandas.core.frame.DataFrame'>\n",
      "Int64Index: 891 entries, 1 to 891\n",
      "Data columns (total 16 columns):\n",
      " #   Column         Non-Null Count  Dtype   \n",
      "---  ------         --------------  -----   \n",
      " 0   Survived       891 non-null    int64   \n",
      " 1   Pclass         891 non-null    int64   \n",
      " 2   Name           891 non-null    object  \n",
      " 3   Sex            891 non-null    object  \n",
      " 4   Age            891 non-null    float64 \n",
      " 5   SibSp          891 non-null    int64   \n",
      " 6   Parch          891 non-null    int64   \n",
      " 7   Ticket         891 non-null    object  \n",
      " 8   Fare           891 non-null    float64 \n",
      " 9   Cabin          204 non-null    object  \n",
      " 10  Embarked       889 non-null    object  \n",
      " 11  age_group      714 non-null    category\n",
      " 12  Initial        891 non-null    object  \n",
      " 13  family_member  891 non-null    object  \n",
      " 14  family_size    891 non-null    int64   \n",
      " 15  cabin_section  204 non-null    object  \n",
      "dtypes: category(1), float64(2), int64(5), object(8)\n",
      "memory usage: 112.6+ KB\n"
     ]
    }
   ],
   "source": [
    "train = titanic\n",
    "train.info()"
   ]
  },
  {
   "cell_type": "code",
   "execution_count": 76,
   "id": "65165593",
   "metadata": {},
   "outputs": [
    {
     "data": {
      "text/html": [
       "<div>\n",
       "<style scoped>\n",
       "    .dataframe tbody tr th:only-of-type {\n",
       "        vertical-align: middle;\n",
       "    }\n",
       "\n",
       "    .dataframe tbody tr th {\n",
       "        vertical-align: top;\n",
       "    }\n",
       "\n",
       "    .dataframe thead th {\n",
       "        text-align: right;\n",
       "    }\n",
       "</style>\n",
       "<table border=\"1\" class=\"dataframe\">\n",
       "  <thead>\n",
       "    <tr style=\"text-align: right;\">\n",
       "      <th></th>\n",
       "      <th>Survived</th>\n",
       "      <th>Pclass</th>\n",
       "      <th>Sex</th>\n",
       "      <th>Age</th>\n",
       "      <th>SibSp</th>\n",
       "      <th>Parch</th>\n",
       "      <th>Fare</th>\n",
       "      <th>Embarked</th>\n",
       "    </tr>\n",
       "    <tr>\n",
       "      <th>PassengerId</th>\n",
       "      <th></th>\n",
       "      <th></th>\n",
       "      <th></th>\n",
       "      <th></th>\n",
       "      <th></th>\n",
       "      <th></th>\n",
       "      <th></th>\n",
       "      <th></th>\n",
       "    </tr>\n",
       "  </thead>\n",
       "  <tbody>\n",
       "    <tr>\n",
       "      <th>1</th>\n",
       "      <td>0</td>\n",
       "      <td>3</td>\n",
       "      <td>male</td>\n",
       "      <td>22.0</td>\n",
       "      <td>1</td>\n",
       "      <td>0</td>\n",
       "      <td>7.2500</td>\n",
       "      <td>S</td>\n",
       "    </tr>\n",
       "    <tr>\n",
       "      <th>2</th>\n",
       "      <td>1</td>\n",
       "      <td>1</td>\n",
       "      <td>female</td>\n",
       "      <td>38.0</td>\n",
       "      <td>1</td>\n",
       "      <td>0</td>\n",
       "      <td>71.2833</td>\n",
       "      <td>C</td>\n",
       "    </tr>\n",
       "    <tr>\n",
       "      <th>3</th>\n",
       "      <td>1</td>\n",
       "      <td>3</td>\n",
       "      <td>female</td>\n",
       "      <td>26.0</td>\n",
       "      <td>0</td>\n",
       "      <td>0</td>\n",
       "      <td>7.9250</td>\n",
       "      <td>S</td>\n",
       "    </tr>\n",
       "    <tr>\n",
       "      <th>4</th>\n",
       "      <td>1</td>\n",
       "      <td>1</td>\n",
       "      <td>female</td>\n",
       "      <td>35.0</td>\n",
       "      <td>1</td>\n",
       "      <td>0</td>\n",
       "      <td>53.1000</td>\n",
       "      <td>S</td>\n",
       "    </tr>\n",
       "    <tr>\n",
       "      <th>5</th>\n",
       "      <td>0</td>\n",
       "      <td>3</td>\n",
       "      <td>male</td>\n",
       "      <td>35.0</td>\n",
       "      <td>0</td>\n",
       "      <td>0</td>\n",
       "      <td>8.0500</td>\n",
       "      <td>S</td>\n",
       "    </tr>\n",
       "    <tr>\n",
       "      <th>...</th>\n",
       "      <td>...</td>\n",
       "      <td>...</td>\n",
       "      <td>...</td>\n",
       "      <td>...</td>\n",
       "      <td>...</td>\n",
       "      <td>...</td>\n",
       "      <td>...</td>\n",
       "      <td>...</td>\n",
       "    </tr>\n",
       "    <tr>\n",
       "      <th>887</th>\n",
       "      <td>0</td>\n",
       "      <td>2</td>\n",
       "      <td>male</td>\n",
       "      <td>27.0</td>\n",
       "      <td>0</td>\n",
       "      <td>0</td>\n",
       "      <td>13.0000</td>\n",
       "      <td>S</td>\n",
       "    </tr>\n",
       "    <tr>\n",
       "      <th>888</th>\n",
       "      <td>1</td>\n",
       "      <td>1</td>\n",
       "      <td>female</td>\n",
       "      <td>19.0</td>\n",
       "      <td>0</td>\n",
       "      <td>0</td>\n",
       "      <td>30.0000</td>\n",
       "      <td>S</td>\n",
       "    </tr>\n",
       "    <tr>\n",
       "      <th>889</th>\n",
       "      <td>0</td>\n",
       "      <td>3</td>\n",
       "      <td>female</td>\n",
       "      <td>22.0</td>\n",
       "      <td>1</td>\n",
       "      <td>2</td>\n",
       "      <td>23.4500</td>\n",
       "      <td>S</td>\n",
       "    </tr>\n",
       "    <tr>\n",
       "      <th>890</th>\n",
       "      <td>1</td>\n",
       "      <td>1</td>\n",
       "      <td>male</td>\n",
       "      <td>26.0</td>\n",
       "      <td>0</td>\n",
       "      <td>0</td>\n",
       "      <td>30.0000</td>\n",
       "      <td>C</td>\n",
       "    </tr>\n",
       "    <tr>\n",
       "      <th>891</th>\n",
       "      <td>0</td>\n",
       "      <td>3</td>\n",
       "      <td>male</td>\n",
       "      <td>32.0</td>\n",
       "      <td>0</td>\n",
       "      <td>0</td>\n",
       "      <td>7.7500</td>\n",
       "      <td>Q</td>\n",
       "    </tr>\n",
       "  </tbody>\n",
       "</table>\n",
       "<p>891 rows × 8 columns</p>\n",
       "</div>"
      ],
      "text/plain": [
       "             Survived  Pclass     Sex   Age  SibSp  Parch     Fare Embarked\n",
       "PassengerId                                                                \n",
       "1                   0       3    male  22.0      1      0   7.2500        S\n",
       "2                   1       1  female  38.0      1      0  71.2833        C\n",
       "3                   1       3  female  26.0      0      0   7.9250        S\n",
       "4                   1       1  female  35.0      1      0  53.1000        S\n",
       "5                   0       3    male  35.0      0      0   8.0500        S\n",
       "...               ...     ...     ...   ...    ...    ...      ...      ...\n",
       "887                 0       2    male  27.0      0      0  13.0000        S\n",
       "888                 1       1  female  19.0      0      0  30.0000        S\n",
       "889                 0       3  female  22.0      1      2  23.4500        S\n",
       "890                 1       1    male  26.0      0      0  30.0000        C\n",
       "891                 0       3    male  32.0      0      0   7.7500        Q\n",
       "\n",
       "[891 rows x 8 columns]"
      ]
     },
     "execution_count": 76,
     "metadata": {},
     "output_type": "execute_result"
    }
   ],
   "source": [
    "train = train.drop(['Name', 'Ticket', 'Cabin', 'age_group','Initial', 'family_member', 'family_size', 'cabin_section'], axis=1)\n",
    "train"
   ]
  },
  {
   "cell_type": "code",
   "execution_count": 77,
   "id": "d04b3fcd",
   "metadata": {},
   "outputs": [
    {
     "data": {
      "text/html": [
       "<div>\n",
       "<style scoped>\n",
       "    .dataframe tbody tr th:only-of-type {\n",
       "        vertical-align: middle;\n",
       "    }\n",
       "\n",
       "    .dataframe tbody tr th {\n",
       "        vertical-align: top;\n",
       "    }\n",
       "\n",
       "    .dataframe thead th {\n",
       "        text-align: right;\n",
       "    }\n",
       "</style>\n",
       "<table border=\"1\" class=\"dataframe\">\n",
       "  <thead>\n",
       "    <tr style=\"text-align: right;\">\n",
       "      <th></th>\n",
       "      <th>Survived</th>\n",
       "      <th>Pclass</th>\n",
       "      <th>Sex</th>\n",
       "      <th>Age</th>\n",
       "      <th>SibSp</th>\n",
       "      <th>Parch</th>\n",
       "      <th>Fare</th>\n",
       "      <th>Embarked</th>\n",
       "    </tr>\n",
       "    <tr>\n",
       "      <th>PassengerId</th>\n",
       "      <th></th>\n",
       "      <th></th>\n",
       "      <th></th>\n",
       "      <th></th>\n",
       "      <th></th>\n",
       "      <th></th>\n",
       "      <th></th>\n",
       "      <th></th>\n",
       "    </tr>\n",
       "  </thead>\n",
       "  <tbody>\n",
       "    <tr>\n",
       "      <th>1</th>\n",
       "      <td>0</td>\n",
       "      <td>3</td>\n",
       "      <td>0</td>\n",
       "      <td>22.0</td>\n",
       "      <td>1</td>\n",
       "      <td>0</td>\n",
       "      <td>7.2500</td>\n",
       "      <td>S</td>\n",
       "    </tr>\n",
       "    <tr>\n",
       "      <th>2</th>\n",
       "      <td>1</td>\n",
       "      <td>1</td>\n",
       "      <td>1</td>\n",
       "      <td>38.0</td>\n",
       "      <td>1</td>\n",
       "      <td>0</td>\n",
       "      <td>71.2833</td>\n",
       "      <td>C</td>\n",
       "    </tr>\n",
       "    <tr>\n",
       "      <th>3</th>\n",
       "      <td>1</td>\n",
       "      <td>3</td>\n",
       "      <td>1</td>\n",
       "      <td>26.0</td>\n",
       "      <td>0</td>\n",
       "      <td>0</td>\n",
       "      <td>7.9250</td>\n",
       "      <td>S</td>\n",
       "    </tr>\n",
       "    <tr>\n",
       "      <th>4</th>\n",
       "      <td>1</td>\n",
       "      <td>1</td>\n",
       "      <td>1</td>\n",
       "      <td>35.0</td>\n",
       "      <td>1</td>\n",
       "      <td>0</td>\n",
       "      <td>53.1000</td>\n",
       "      <td>S</td>\n",
       "    </tr>\n",
       "    <tr>\n",
       "      <th>5</th>\n",
       "      <td>0</td>\n",
       "      <td>3</td>\n",
       "      <td>0</td>\n",
       "      <td>35.0</td>\n",
       "      <td>0</td>\n",
       "      <td>0</td>\n",
       "      <td>8.0500</td>\n",
       "      <td>S</td>\n",
       "    </tr>\n",
       "    <tr>\n",
       "      <th>...</th>\n",
       "      <td>...</td>\n",
       "      <td>...</td>\n",
       "      <td>...</td>\n",
       "      <td>...</td>\n",
       "      <td>...</td>\n",
       "      <td>...</td>\n",
       "      <td>...</td>\n",
       "      <td>...</td>\n",
       "    </tr>\n",
       "    <tr>\n",
       "      <th>887</th>\n",
       "      <td>0</td>\n",
       "      <td>2</td>\n",
       "      <td>0</td>\n",
       "      <td>27.0</td>\n",
       "      <td>0</td>\n",
       "      <td>0</td>\n",
       "      <td>13.0000</td>\n",
       "      <td>S</td>\n",
       "    </tr>\n",
       "    <tr>\n",
       "      <th>888</th>\n",
       "      <td>1</td>\n",
       "      <td>1</td>\n",
       "      <td>1</td>\n",
       "      <td>19.0</td>\n",
       "      <td>0</td>\n",
       "      <td>0</td>\n",
       "      <td>30.0000</td>\n",
       "      <td>S</td>\n",
       "    </tr>\n",
       "    <tr>\n",
       "      <th>889</th>\n",
       "      <td>0</td>\n",
       "      <td>3</td>\n",
       "      <td>1</td>\n",
       "      <td>22.0</td>\n",
       "      <td>1</td>\n",
       "      <td>2</td>\n",
       "      <td>23.4500</td>\n",
       "      <td>S</td>\n",
       "    </tr>\n",
       "    <tr>\n",
       "      <th>890</th>\n",
       "      <td>1</td>\n",
       "      <td>1</td>\n",
       "      <td>0</td>\n",
       "      <td>26.0</td>\n",
       "      <td>0</td>\n",
       "      <td>0</td>\n",
       "      <td>30.0000</td>\n",
       "      <td>C</td>\n",
       "    </tr>\n",
       "    <tr>\n",
       "      <th>891</th>\n",
       "      <td>0</td>\n",
       "      <td>3</td>\n",
       "      <td>0</td>\n",
       "      <td>32.0</td>\n",
       "      <td>0</td>\n",
       "      <td>0</td>\n",
       "      <td>7.7500</td>\n",
       "      <td>Q</td>\n",
       "    </tr>\n",
       "  </tbody>\n",
       "</table>\n",
       "<p>891 rows × 8 columns</p>\n",
       "</div>"
      ],
      "text/plain": [
       "             Survived  Pclass  Sex   Age  SibSp  Parch     Fare Embarked\n",
       "PassengerId                                                             \n",
       "1                   0       3    0  22.0      1      0   7.2500        S\n",
       "2                   1       1    1  38.0      1      0  71.2833        C\n",
       "3                   1       3    1  26.0      0      0   7.9250        S\n",
       "4                   1       1    1  35.0      1      0  53.1000        S\n",
       "5                   0       3    0  35.0      0      0   8.0500        S\n",
       "...               ...     ...  ...   ...    ...    ...      ...      ...\n",
       "887                 0       2    0  27.0      0      0  13.0000        S\n",
       "888                 1       1    1  19.0      0      0  30.0000        S\n",
       "889                 0       3    1  22.0      1      2  23.4500        S\n",
       "890                 1       1    0  26.0      0      0  30.0000        C\n",
       "891                 0       3    0  32.0      0      0   7.7500        Q\n",
       "\n",
       "[891 rows x 8 columns]"
      ]
     },
     "execution_count": 77,
     "metadata": {},
     "output_type": "execute_result"
    }
   ],
   "source": [
    "train['Sex'].replace(['male', 'female'], [0, 1], inplace=True)\n",
    "train"
   ]
  },
  {
   "cell_type": "code",
   "execution_count": 79,
   "id": "26c81d83",
   "metadata": {},
   "outputs": [],
   "source": [
    "X_train = train[['Pclass', 'Sex', 'Age', 'SibSp', 'Parch', 'Fare', 'Embarked']]\n",
    "y_train = train[['Survived']]"
   ]
  },
  {
   "cell_type": "code",
   "execution_count": null,
   "id": "3ce68f27",
   "metadata": {},
   "outputs": [],
   "source": []
  }
 ],
 "metadata": {
  "kernelspec": {
   "display_name": "Python 3 (ipykernel)",
   "language": "python",
   "name": "python3"
  },
  "language_info": {
   "codemirror_mode": {
    "name": "ipython",
    "version": 3
   },
   "file_extension": ".py",
   "mimetype": "text/x-python",
   "name": "python",
   "nbconvert_exporter": "python",
   "pygments_lexer": "ipython3",
   "version": "3.9.13"
  }
 },
 "nbformat": 4,
 "nbformat_minor": 5
}
