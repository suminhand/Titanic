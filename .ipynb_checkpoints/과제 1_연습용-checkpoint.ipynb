{
 "cells": [
  {
   "cell_type": "markdown",
   "id": "6d54ef22",
   "metadata": {},
   "source": [
    "# 타이타닉 데이터셋 분석하고 예측하기\n",
    "\n",
    "### 2022100870 손수민"
   ]
  },
  {
   "cell_type": "markdown",
   "id": "fea540bb",
   "metadata": {},
   "source": [
    "## Titanic 데이터셋\n",
    "\n",
    "#### 데이터 다운로드\n",
    "  https://www.kaggle.com/c/titanic (Titanic: Machine Learning from Disaster)\n",
    "#### 데이터 column\n",
    "- survival: 생존여부( 생존:1, 생존x: 0)\n",
    "- pclass: 티켓 등급(1등급:1. 2등급: 2, 3등급: 3)\n",
    "- sex: 성별(male,female)\n",
    "- age: 나이(float)\n",
    "- sibsp: 타이타닉에 승선한 형제자매 또는 배우자의 수\n",
    "- parch: 타이타닉에 승선한 부모-자식의 수\n",
    "- ticket: 티켓 번호\n",
    "- fare: 승선 요금\n",
    "- cabin: 선실 번호\n",
    "- emvarked: 승선 항구 이름( C: Cherbourg, Q: Queenstown, S: Southampton)"
   ]
  },
  {
   "cell_type": "code",
   "execution_count": 2,
   "id": "f58204ad",
   "metadata": {},
   "outputs": [],
   "source": [
    "import pandas as pd\n",
    "import matplotlib.pyplot as plt"
   ]
  },
  {
   "cell_type": "code",
   "execution_count": 3,
   "id": "1d5e2e81",
   "metadata": {},
   "outputs": [
    {
     "data": {
      "text/html": [
       "<div>\n",
       "<style scoped>\n",
       "    .dataframe tbody tr th:only-of-type {\n",
       "        vertical-align: middle;\n",
       "    }\n",
       "\n",
       "    .dataframe tbody tr th {\n",
       "        vertical-align: top;\n",
       "    }\n",
       "\n",
       "    .dataframe thead th {\n",
       "        text-align: right;\n",
       "    }\n",
       "</style>\n",
       "<table border=\"1\" class=\"dataframe\">\n",
       "  <thead>\n",
       "    <tr style=\"text-align: right;\">\n",
       "      <th></th>\n",
       "      <th>Survived</th>\n",
       "      <th>Pclass</th>\n",
       "      <th>Name</th>\n",
       "      <th>Sex</th>\n",
       "      <th>Age</th>\n",
       "      <th>SibSp</th>\n",
       "      <th>Parch</th>\n",
       "      <th>Ticket</th>\n",
       "      <th>Fare</th>\n",
       "      <th>Cabin</th>\n",
       "      <th>Embarked</th>\n",
       "    </tr>\n",
       "    <tr>\n",
       "      <th>PassengerId</th>\n",
       "      <th></th>\n",
       "      <th></th>\n",
       "      <th></th>\n",
       "      <th></th>\n",
       "      <th></th>\n",
       "      <th></th>\n",
       "      <th></th>\n",
       "      <th></th>\n",
       "      <th></th>\n",
       "      <th></th>\n",
       "      <th></th>\n",
       "    </tr>\n",
       "  </thead>\n",
       "  <tbody>\n",
       "    <tr>\n",
       "      <th>1</th>\n",
       "      <td>0</td>\n",
       "      <td>3</td>\n",
       "      <td>Braund, Mr. Owen Harris</td>\n",
       "      <td>male</td>\n",
       "      <td>22.0</td>\n",
       "      <td>1</td>\n",
       "      <td>0</td>\n",
       "      <td>A/5 21171</td>\n",
       "      <td>7.2500</td>\n",
       "      <td>NaN</td>\n",
       "      <td>S</td>\n",
       "    </tr>\n",
       "    <tr>\n",
       "      <th>2</th>\n",
       "      <td>1</td>\n",
       "      <td>1</td>\n",
       "      <td>Cumings, Mrs. John Bradley (Florence Briggs Th...</td>\n",
       "      <td>female</td>\n",
       "      <td>38.0</td>\n",
       "      <td>1</td>\n",
       "      <td>0</td>\n",
       "      <td>PC 17599</td>\n",
       "      <td>71.2833</td>\n",
       "      <td>C85</td>\n",
       "      <td>C</td>\n",
       "    </tr>\n",
       "    <tr>\n",
       "      <th>3</th>\n",
       "      <td>1</td>\n",
       "      <td>3</td>\n",
       "      <td>Heikkinen, Miss. Laina</td>\n",
       "      <td>female</td>\n",
       "      <td>26.0</td>\n",
       "      <td>0</td>\n",
       "      <td>0</td>\n",
       "      <td>STON/O2. 3101282</td>\n",
       "      <td>7.9250</td>\n",
       "      <td>NaN</td>\n",
       "      <td>S</td>\n",
       "    </tr>\n",
       "    <tr>\n",
       "      <th>4</th>\n",
       "      <td>1</td>\n",
       "      <td>1</td>\n",
       "      <td>Futrelle, Mrs. Jacques Heath (Lily May Peel)</td>\n",
       "      <td>female</td>\n",
       "      <td>35.0</td>\n",
       "      <td>1</td>\n",
       "      <td>0</td>\n",
       "      <td>113803</td>\n",
       "      <td>53.1000</td>\n",
       "      <td>C123</td>\n",
       "      <td>S</td>\n",
       "    </tr>\n",
       "    <tr>\n",
       "      <th>5</th>\n",
       "      <td>0</td>\n",
       "      <td>3</td>\n",
       "      <td>Allen, Mr. William Henry</td>\n",
       "      <td>male</td>\n",
       "      <td>35.0</td>\n",
       "      <td>0</td>\n",
       "      <td>0</td>\n",
       "      <td>373450</td>\n",
       "      <td>8.0500</td>\n",
       "      <td>NaN</td>\n",
       "      <td>S</td>\n",
       "    </tr>\n",
       "  </tbody>\n",
       "</table>\n",
       "</div>"
      ],
      "text/plain": [
       "             Survived  Pclass  \\\n",
       "PassengerId                     \n",
       "1                   0       3   \n",
       "2                   1       1   \n",
       "3                   1       3   \n",
       "4                   1       1   \n",
       "5                   0       3   \n",
       "\n",
       "                                                          Name     Sex   Age  \\\n",
       "PassengerId                                                                    \n",
       "1                                      Braund, Mr. Owen Harris    male  22.0   \n",
       "2            Cumings, Mrs. John Bradley (Florence Briggs Th...  female  38.0   \n",
       "3                                       Heikkinen, Miss. Laina  female  26.0   \n",
       "4                 Futrelle, Mrs. Jacques Heath (Lily May Peel)  female  35.0   \n",
       "5                                     Allen, Mr. William Henry    male  35.0   \n",
       "\n",
       "             SibSp  Parch            Ticket     Fare Cabin Embarked  \n",
       "PassengerId                                                          \n",
       "1                1      0         A/5 21171   7.2500   NaN        S  \n",
       "2                1      0          PC 17599  71.2833   C85        C  \n",
       "3                0      0  STON/O2. 3101282   7.9250   NaN        S  \n",
       "4                1      0            113803  53.1000  C123        S  \n",
       "5                0      0            373450   8.0500   NaN        S  "
      ]
     },
     "execution_count": 3,
     "metadata": {},
     "output_type": "execute_result"
    }
   ],
   "source": [
    "titanic = pd.read_csv(\"./titanic/train.csv\")\n",
    "titanic.set_index('PassengerId', inplace=True)\n",
    "titanic.head()"
   ]
  },
  {
   "cell_type": "code",
   "execution_count": 4,
   "id": "203cb719",
   "metadata": {
    "scrolled": true
   },
   "outputs": [
    {
     "name": "stdout",
     "output_type": "stream",
     "text": [
      "<class 'pandas.core.frame.DataFrame'>\n",
      "Int64Index: 891 entries, 1 to 891\n",
      "Data columns (total 11 columns):\n",
      " #   Column    Non-Null Count  Dtype  \n",
      "---  ------    --------------  -----  \n",
      " 0   Survived  891 non-null    int64  \n",
      " 1   Pclass    891 non-null    int64  \n",
      " 2   Name      891 non-null    object \n",
      " 3   Sex       891 non-null    object \n",
      " 4   Age       714 non-null    float64\n",
      " 5   SibSp     891 non-null    int64  \n",
      " 6   Parch     891 non-null    int64  \n",
      " 7   Ticket    891 non-null    object \n",
      " 8   Fare      891 non-null    float64\n",
      " 9   Cabin     204 non-null    object \n",
      " 10  Embarked  889 non-null    object \n",
      "dtypes: float64(2), int64(4), object(5)\n",
      "memory usage: 83.5+ KB\n"
     ]
    }
   ],
   "source": [
    "titanic.info()"
   ]
  },
  {
   "cell_type": "code",
   "execution_count": 5,
   "id": "ac962221",
   "metadata": {},
   "outputs": [
    {
     "data": {
      "text/plain": [
       "Pclass  room\n",
       "1       A       15\n",
       "        B       47\n",
       "        C       59\n",
       "        D       29\n",
       "        E       25\n",
       "        T        1\n",
       "2       D        4\n",
       "        E        4\n",
       "        F        8\n",
       "3       E        3\n",
       "        F        5\n",
       "        G        4\n",
       "dtype: int64"
      ]
     },
     "execution_count": 5,
     "metadata": {},
     "output_type": "execute_result"
    }
   ],
   "source": [
    "titanic_test = titanic\n",
    "titanic_test['room']=0\n",
    "for i in titanic_test:\n",
    "    titanic_test['room']=titanic_test.Cabin.str.extract('([A-Za-z]+)')\n",
    "titanic_test[[\"Pclass\", \"room\"]].value_counts(sort=False)"
   ]
  },
  {
   "cell_type": "code",
   "execution_count": 6,
   "id": "5e7c1364",
   "metadata": {},
   "outputs": [
    {
     "data": {
      "image/png": "[encoded data removed]",
      "text/plain": [
       "<Figure size 640x480 with 1 Axes>"
      ]
     },
     "metadata": {},
     "output_type": "display_data"
    }
   ],
   "source": [
    "%matplotlib inline\n",
    "\n",
    "titanic[\"Pclass\"].hist(bins=(0, 3, 1))\n",
    "plt.show()"
   ]
  },
  {
   "cell_type": "markdown",
   "id": "d8b8eafd",
   "metadata": {},
   "source": [
    "## 데이터 분석\n",
    "\n",
    "- 성별에 따른\n",
    "- 동행자가 있는 경우\n",
    "- 부모-자식 관계\n",
    "- 나이에 따른\n",
    "- 티켓 등급에 따라\n",
    "- 가족 구성원에서 누가 가장 많이 살아남았을까 이 이ㅣ수슈ㅠㅠㅠ"
   ]
  },
  {
   "cell_type": "markdown",
   "id": "abc08624",
   "metadata": {},
   "source": [
    "#### 성별"
   ]
  },
  {
   "cell_type": "code",
   "execution_count": 27,
   "id": "bff9f9f2",
   "metadata": {},
   "outputs": [
    {
     "data": {
      "image/png": "[encoded data removed]",
      "text/plain": [
       "<Figure size 640x480 with 1 Axes>"
      ]
     },
     "metadata": {},
     "output_type": "display_data"
    }
   ],
   "source": [
    "titanic[[\"Sex\", \"Survived\"]].hist()\n",
    "plt.show()"
   ]
  },
  {
   "cell_type": "code",
   "execution_count": 12,
   "id": "ac2bdaed",
   "metadata": {},
   "outputs": [
    {
     "data": {
      "text/plain": [
       "count    891.000000\n",
       "mean      32.204208\n",
       "std       49.693429\n",
       "min        0.000000\n",
       "25%        7.910400\n",
       "50%       14.454200\n",
       "75%       31.000000\n",
       "max      512.329200\n",
       "Name: Fare, dtype: float64"
      ]
     },
     "execution_count": 12,
     "metadata": {},
     "output_type": "execute_result"
    }
   ],
   "source": [
    "titanic[\"Fare\"].describe()"
   ]
  },
  {
   "cell_type": "code",
   "execution_count": 16,
   "id": "ab15797f",
   "metadata": {},
   "outputs": [
    {
     "data": {
      "text/plain": [
       "PassengerId\n",
       "2      71.2833\n",
       "4      53.1000\n",
       "7      51.8625\n",
       "12     26.5500\n",
       "24     35.5000\n",
       "        ...   \n",
       "872    52.5542\n",
       "873     5.0000\n",
       "880    83.1583\n",
       "888    30.0000\n",
       "890    30.0000\n",
       "Name: Fare, Length: 216, dtype: float64"
      ]
     },
     "execution_count": 16,
     "metadata": {},
     "output_type": "execute_result"
    }
   ],
   "source": [
    "titanic.loc[titanic.Pclass==1][\"Fare\"]"
   ]
  },
  {
   "cell_type": "code",
   "execution_count": 22,
   "id": "c50e40f3",
   "metadata": {},
   "outputs": [
    {
     "data": {
      "text/plain": [
       "PassengerId\n",
       "24     35.5000\n",
       "97     34.6542\n",
       "175    30.6958\n",
       "186    50.0000\n",
       "210    31.0000\n",
       "285    26.0000\n",
       "446    81.8583\n",
       "476    52.0000\n",
       "557    39.6000\n",
       "584    40.1250\n",
       "600    56.9292\n",
       "631    30.0000\n",
       "648    35.5000\n",
       "807     0.0000\n",
       "868    50.4958\n",
       "Name: Fare, dtype: float64"
      ]
     },
     "execution_count": 22,
     "metadata": {},
     "output_type": "execute_result"
    }
   ],
   "source": [
    "titanic_test[titanic_test.room == 'A'][\"Fare\"]"
   ]
  },
  {
   "cell_type": "code",
   "execution_count": 21,
   "id": "ac32e377",
   "metadata": {},
   "outputs": [
    {
     "data": {
      "text/plain": [
       "PassengerId\n",
       "32     146.5208\n",
       "55      61.9792\n",
       "62      80.0000\n",
       "119    247.5208\n",
       "140     79.2000\n",
       "171     33.5000\n",
       "195     27.7208\n",
       "196    146.5208\n",
       "258     86.5000\n",
       "264      0.0000\n",
       "292     91.0792\n",
       "300    247.5208\n",
       "312    262.3750\n",
       "330     57.9792\n",
       "370     69.3000\n",
       "391    120.0000\n",
       "436    120.0000\n",
       "485     91.0792\n",
       "488     29.7000\n",
       "505     86.5000\n",
       "521     93.5000\n",
       "524     57.9792\n",
       "537     26.5500\n",
       "540     49.5000\n",
       "541     71.0000\n",
       "588     79.2000\n",
       "633     30.5000\n",
       "642     69.3000\n",
       "672     52.0000\n",
       "680    512.3292\n",
       "690    211.3375\n",
       "691     57.0000\n",
       "731    211.3375\n",
       "738    512.3292\n",
       "743    262.3750\n",
       "746     71.0000\n",
       "760     86.5000\n",
       "764    120.0000\n",
       "780    211.3375\n",
       "782     57.0000\n",
       "790     79.2000\n",
       "803    120.0000\n",
       "816      0.0000\n",
       "821     93.5000\n",
       "830     80.0000\n",
       "873      5.0000\n",
       "888     30.0000\n",
       "Name: Fare, dtype: float64"
      ]
     },
     "execution_count": 21,
     "metadata": {},
     "output_type": "execute_result"
    }
   ],
   "source": [
    "titanic_test[titanic_test.room == 'B'][\"Fare\"]"
   ]
  },
  {
   "cell_type": "code",
   "execution_count": 24,
   "id": "fb19b950",
   "metadata": {},
   "outputs": [
    {
     "data": {
      "text/plain": [
       "PassengerId\n",
       "67     10.5000\n",
       "76      7.6500\n",
       "129    22.3583\n",
       "149    26.0000\n",
       "184    39.0000\n",
       "194    26.0000\n",
       "341    26.0000\n",
       "346    13.0000\n",
       "517    10.5000\n",
       "619    39.0000\n",
       "700     7.6500\n",
       "716     7.6500\n",
       "777     7.7500\n",
       "Name: Fare, dtype: float64"
      ]
     },
     "execution_count": 24,
     "metadata": {},
     "output_type": "execute_result"
    }
   ],
   "source": [
    "titanic_test[titanic_test.room == 'F'][\"Fare\"]"
   ]
  },
  {
   "cell_type": "code",
   "execution_count": null,
   "id": "9af93677",
   "metadata": {},
   "outputs": [],
   "source": []
  }
 ],
 "metadata": {
  "kernelspec": {
   "display_name": "Python 3 (ipykernel)",
   "language": "python",
   "name": "python3"
  },
  "language_info": {
   "codemirror_mode": {
    "name": "ipython",
    "version": 3
   },
   "file_extension": ".py",
   "mimetype": "text/x-python",
   "name": "python",
   "nbconvert_exporter": "python",
   "pygments_lexer": "ipython3",
   "version": "3.9.13"
  }
 },
 "nbformat": 4,
 "nbformat_minor": 5
}
